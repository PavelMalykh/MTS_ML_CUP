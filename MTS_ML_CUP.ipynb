{
 "cells": [
  {
   "cell_type": "code",
   "execution_count": 1,
   "id": "7554145a-c6c8-447c-bffe-b798afde55c8",
   "metadata": {},
   "outputs": [],
   "source": [
    "import warnings\n",
    "#os.environ['OPENBLAS_NUM_THREADS'] = '1'\n",
    "warnings.filterwarnings('ignore')"
   ]
  },
  {
   "cell_type": "code",
   "execution_count": 2,
   "id": "a7f626aa-c11c-4944-9cac-5441e4bf3ff9",
   "metadata": {},
   "outputs": [],
   "source": [
    "import sys\n",
    "import os\n",
    "import gc\n",
    "import re\n",
    "import bisect\n",
    "\n",
    "import pandas as pd\n",
    "import polars as pl\n",
    "import numpy as np\n",
    "import pyarrow.parquet as pq\n",
    "\n",
    "import sklearn.metrics as m\n",
    "from catboost import CatBoostClassifier\n",
    "from sklearn.model_selection import train_test_split\n",
    "from sklearn.preprocessing import MinMaxScaler, FunctionTransformer, \\\n",
    "                                  OneHotEncoder, OrdinalEncoder, Normalizer\n",
    "\n",
    "from sklearn.linear_model import LogisticRegression \n",
    "from sklearn.feature_extraction.text import TfidfVectorizer, CountVectorizer\n",
    "from sklearn.compose import ColumnTransformer\n",
    "from sklearn.naive_bayes import MultinomialNB \n",
    "from sklearn.ensemble import StackingClassifier \n",
    "from sklearn.pipeline import Pipeline, FeatureUnion\n",
    "from lightgbm import LGBMClassifier\n"
   ]
  },
  {
   "cell_type": "code",
   "execution_count": 3,
   "id": "23cd5e55-acf4-48e3-98b1-2a50cbb81e17",
   "metadata": {
    "tags": []
   },
   "outputs": [],
   "source": [
    "def url_transformer(url):\n",
    "  \n",
    "    url = ' '.join(set(url))\n",
    "    \n",
    "    return url"
   ]
  },
  {
   "cell_type": "code",
   "execution_count": 4,
   "id": "5c9ca8c8-0a8b-4abf-8406-80623dd5a856",
   "metadata": {
    "tags": []
   },
   "outputs": [],
   "source": [
    "def gini(y_true, y_pred_prob):\n",
    "    return (2 * m.roc_auc_score(y_true, y_pred_prob) - 1)"
   ]
  },
  {
   "cell_type": "code",
   "execution_count": 5,
   "id": "b344166f-8b55-4a33-a946-7ff77ed7211e",
   "metadata": {},
   "outputs": [],
   "source": [
    "LOCAL_DATA_PATH = 'D:\\\\ods_ai'\n",
    "SPLIT_SEED = 42\n",
    "DATA_FILE = 'dataset_full.parquet'\n",
    "TARGET_FILE = 'public_train.pqt'\n",
    "SUBMISSION_FILE = 'submit_2.pqt'"
   ]
  },
  {
   "cell_type": "code",
   "execution_count": 6,
   "id": "557ef964-945a-4d92-8890-6d297c8c57cb",
   "metadata": {
    "tags": []
   },
   "outputs": [
    {
     "name": "stdout",
     "output_type": "stream",
     "text": [
      "CPU times: total: 57 s\n",
      "Wall time: 1min 6s\n"
     ]
    }
   ],
   "source": [
    "%%time\n",
    "data = pl.read_parquet(f'{LOCAL_DATA_PATH}\\\\{DATA_FILE}')"
   ]
  },
  {
   "cell_type": "code",
   "execution_count": 7,
   "id": "7237c189-d205-4dc5-937c-4cfaaa61ffa3",
   "metadata": {},
   "outputs": [
    {
     "data": {
      "text/plain": [
       "(322899435, 12)"
      ]
     },
     "execution_count": 7,
     "metadata": {},
     "output_type": "execute_result"
    }
   ],
   "source": [
    "data.shape"
   ]
  },
  {
   "cell_type": "code",
   "execution_count": 8,
   "id": "1d821194-50da-411f-abe7-f3d1e48792d7",
   "metadata": {},
   "outputs": [
    {
     "data": {
      "text/html": [
       "<div><style>\n",
       ".dataframe > thead > tr > th,\n",
       ".dataframe > tbody > tr > td {\n",
       "  text-align: right;\n",
       "}\n",
       "</style>\n",
       "<small>shape: (5, 12)</small><table border=\"1\" class=\"dataframe\"><thead><tr><th>region_name</th><th>city_name</th><th>cpe_manufacturer_name</th><th>cpe_model_name</th><th>url_host</th><th>cpe_type_cd</th><th>cpe_model_os_type</th><th>price</th><th>date</th><th>part_of_day</th><th>request_cnt</th><th>user_id</th></tr><tr><td>cat</td><td>cat</td><td>cat</td><td>cat</td><td>cat</td><td>cat</td><td>cat</td><td>f32</td><td>datetime[ns]</td><td>cat</td><td>i8</td><td>i32</td></tr></thead><tbody><tr><td>&quot;Краснодарский ...</td><td>&quot;Краснодар&quot;</td><td>&quot;Apple&quot;</td><td>&quot;iPhone 7&quot;</td><td>&quot;ad.adriver.ru&quot;</td><td>&quot;smartphone&quot;</td><td>&quot;iOS&quot;</td><td>20368.0</td><td>2022-06-15 00:00:00</td><td>&quot;morning&quot;</td><td>1</td><td>45098</td></tr><tr><td>&quot;Краснодарский ...</td><td>&quot;Краснодар&quot;</td><td>&quot;Apple&quot;</td><td>&quot;iPhone 7&quot;</td><td>&quot;apple.com&quot;</td><td>&quot;smartphone&quot;</td><td>&quot;iOS&quot;</td><td>20368.0</td><td>2022-06-19 00:00:00</td><td>&quot;morning&quot;</td><td>1</td><td>45098</td></tr><tr><td>&quot;Краснодарский ...</td><td>&quot;Краснодар&quot;</td><td>&quot;Apple&quot;</td><td>&quot;iPhone 7&quot;</td><td>&quot;avatars.mds.ya...</td><td>&quot;smartphone&quot;</td><td>&quot;iOS&quot;</td><td>20368.0</td><td>2022-06-12 00:00:00</td><td>&quot;day&quot;</td><td>1</td><td>45098</td></tr><tr><td>&quot;Краснодарский ...</td><td>&quot;Краснодар&quot;</td><td>&quot;Apple&quot;</td><td>&quot;iPhone 7&quot;</td><td>&quot;googleads.g.do...</td><td>&quot;smartphone&quot;</td><td>&quot;iOS&quot;</td><td>20368.0</td><td>2022-05-16 00:00:00</td><td>&quot;day&quot;</td><td>1</td><td>45098</td></tr><tr><td>&quot;Краснодарский ...</td><td>&quot;Краснодар&quot;</td><td>&quot;Apple&quot;</td><td>&quot;iPhone 7&quot;</td><td>&quot;googleads.g.do...</td><td>&quot;smartphone&quot;</td><td>&quot;iOS&quot;</td><td>20368.0</td><td>2022-05-30 00:00:00</td><td>&quot;day&quot;</td><td>1</td><td>45098</td></tr></tbody></table></div>"
      ],
      "text/plain": [
       "shape: (5, 12)\n",
       "┌───────────────┬───────────┬───────────────┬───────────────┬─────┬──────────────┬─────────────┬─────────────┬─────────┐\n",
       "│ region_name   ┆ city_name ┆ cpe_manufactu ┆ cpe_model_nam ┆ ... ┆ date         ┆ part_of_day ┆ request_cnt ┆ user_id │\n",
       "│ ---           ┆ ---       ┆ rer_name      ┆ e             ┆     ┆ ---          ┆ ---         ┆ ---         ┆ ---     │\n",
       "│ cat           ┆ cat       ┆ ---           ┆ ---           ┆     ┆ datetime[ns] ┆ cat         ┆ i8          ┆ i32     │\n",
       "│               ┆           ┆ cat           ┆ cat           ┆     ┆              ┆             ┆             ┆         │\n",
       "╞═══════════════╪═══════════╪═══════════════╪═══════════════╪═════╪══════════════╪═════════════╪═════════════╪═════════╡\n",
       "│ Краснодарский ┆ Краснодар ┆ Apple         ┆ iPhone 7      ┆ ... ┆ 2022-06-15   ┆ morning     ┆ 1           ┆ 45098   │\n",
       "│ край          ┆           ┆               ┆               ┆     ┆ 00:00:00     ┆             ┆             ┆         │\n",
       "│ Краснодарский ┆ Краснодар ┆ Apple         ┆ iPhone 7      ┆ ... ┆ 2022-06-19   ┆ morning     ┆ 1           ┆ 45098   │\n",
       "│ край          ┆           ┆               ┆               ┆     ┆ 00:00:00     ┆             ┆             ┆         │\n",
       "│ Краснодарский ┆ Краснодар ┆ Apple         ┆ iPhone 7      ┆ ... ┆ 2022-06-12   ┆ day         ┆ 1           ┆ 45098   │\n",
       "│ край          ┆           ┆               ┆               ┆     ┆ 00:00:00     ┆             ┆             ┆         │\n",
       "│ Краснодарский ┆ Краснодар ┆ Apple         ┆ iPhone 7      ┆ ... ┆ 2022-05-16   ┆ day         ┆ 1           ┆ 45098   │\n",
       "│ край          ┆           ┆               ┆               ┆     ┆ 00:00:00     ┆             ┆             ┆         │\n",
       "│ Краснодарский ┆ Краснодар ┆ Apple         ┆ iPhone 7      ┆ ... ┆ 2022-05-30   ┆ day         ┆ 1           ┆ 45098   │\n",
       "│ край          ┆           ┆               ┆               ┆     ┆ 00:00:00     ┆             ┆             ┆         │\n",
       "└───────────────┴───────────┴───────────────┴───────────────┴─────┴──────────────┴─────────────┴─────────────┴─────────┘"
      ]
     },
     "execution_count": 8,
     "metadata": {},
     "output_type": "execute_result"
    }
   ],
   "source": [
    "data.head()"
   ]
  },
  {
   "cell_type": "code",
   "execution_count": 9,
   "id": "bb43ae33-85b6-4081-ae04-836a8c80d0eb",
   "metadata": {
    "tags": []
   },
   "outputs": [
    {
     "name": "stdout",
     "output_type": "stream",
     "text": [
      "CPU times: total: 39 s\n",
      "Wall time: 1min 42s\n"
     ]
    }
   ],
   "source": [
    "%%time\n",
    "#время суток и день недели действия пользователя\n",
    "data = (data.with_columns(pl.col('date').dt.weekday().alias('weekday'))\n",
    "            .with_columns((pl.col('part_of_day') + '_' + pl.col('weekday').cast(pl.Utf8)).alias('wd')))"
   ]
  },
  {
   "cell_type": "code",
   "execution_count": 10,
   "id": "cca517fe-117d-4cca-9df0-cf5c3efe2180",
   "metadata": {
    "tags": []
   },
   "outputs": [
    {
     "data": {
      "text/html": [
       "<div><style>\n",
       ".dataframe > thead > tr > th,\n",
       ".dataframe > tbody > tr > td {\n",
       "  text-align: right;\n",
       "}\n",
       "</style>\n",
       "<small>shape: (5, 14)</small><table border=\"1\" class=\"dataframe\"><thead><tr><th>region_name</th><th>city_name</th><th>cpe_manufacturer_name</th><th>cpe_model_name</th><th>url_host</th><th>cpe_type_cd</th><th>cpe_model_os_type</th><th>price</th><th>date</th><th>part_of_day</th><th>request_cnt</th><th>user_id</th><th>weekday</th><th>wd</th></tr><tr><td>cat</td><td>cat</td><td>cat</td><td>cat</td><td>cat</td><td>cat</td><td>cat</td><td>f32</td><td>datetime[ns]</td><td>cat</td><td>i8</td><td>i32</td><td>u32</td><td>str</td></tr></thead><tbody><tr><td>&quot;Краснодарский ...</td><td>&quot;Краснодар&quot;</td><td>&quot;Apple&quot;</td><td>&quot;iPhone 7&quot;</td><td>&quot;ad.adriver.ru&quot;</td><td>&quot;smartphone&quot;</td><td>&quot;iOS&quot;</td><td>20368.0</td><td>2022-06-15 00:00:00</td><td>&quot;morning&quot;</td><td>1</td><td>45098</td><td>3</td><td>&quot;morning_3&quot;</td></tr><tr><td>&quot;Краснодарский ...</td><td>&quot;Краснодар&quot;</td><td>&quot;Apple&quot;</td><td>&quot;iPhone 7&quot;</td><td>&quot;apple.com&quot;</td><td>&quot;smartphone&quot;</td><td>&quot;iOS&quot;</td><td>20368.0</td><td>2022-06-19 00:00:00</td><td>&quot;morning&quot;</td><td>1</td><td>45098</td><td>7</td><td>&quot;morning_7&quot;</td></tr><tr><td>&quot;Краснодарский ...</td><td>&quot;Краснодар&quot;</td><td>&quot;Apple&quot;</td><td>&quot;iPhone 7&quot;</td><td>&quot;avatars.mds.ya...</td><td>&quot;smartphone&quot;</td><td>&quot;iOS&quot;</td><td>20368.0</td><td>2022-06-12 00:00:00</td><td>&quot;day&quot;</td><td>1</td><td>45098</td><td>7</td><td>&quot;day_7&quot;</td></tr><tr><td>&quot;Краснодарский ...</td><td>&quot;Краснодар&quot;</td><td>&quot;Apple&quot;</td><td>&quot;iPhone 7&quot;</td><td>&quot;googleads.g.do...</td><td>&quot;smartphone&quot;</td><td>&quot;iOS&quot;</td><td>20368.0</td><td>2022-05-16 00:00:00</td><td>&quot;day&quot;</td><td>1</td><td>45098</td><td>1</td><td>&quot;day_1&quot;</td></tr><tr><td>&quot;Краснодарский ...</td><td>&quot;Краснодар&quot;</td><td>&quot;Apple&quot;</td><td>&quot;iPhone 7&quot;</td><td>&quot;googleads.g.do...</td><td>&quot;smartphone&quot;</td><td>&quot;iOS&quot;</td><td>20368.0</td><td>2022-05-30 00:00:00</td><td>&quot;day&quot;</td><td>1</td><td>45098</td><td>1</td><td>&quot;day_1&quot;</td></tr></tbody></table></div>"
      ],
      "text/plain": [
       "shape: (5, 14)\n",
       "┌───────────────┬───────────┬─────────────────────┬────────────────┬─────┬─────────────┬─────────┬─────────┬───────────┐\n",
       "│ region_name   ┆ city_name ┆ cpe_manufacturer_na ┆ cpe_model_name ┆ ... ┆ request_cnt ┆ user_id ┆ weekday ┆ wd        │\n",
       "│ ---           ┆ ---       ┆ me                  ┆ ---            ┆     ┆ ---         ┆ ---     ┆ ---     ┆ ---       │\n",
       "│ cat           ┆ cat       ┆ ---                 ┆ cat            ┆     ┆ i8          ┆ i32     ┆ u32     ┆ str       │\n",
       "│               ┆           ┆ cat                 ┆                ┆     ┆             ┆         ┆         ┆           │\n",
       "╞═══════════════╪═══════════╪═════════════════════╪════════════════╪═════╪═════════════╪═════════╪═════════╪═══════════╡\n",
       "│ Краснодарский ┆ Краснодар ┆ Apple               ┆ iPhone 7       ┆ ... ┆ 1           ┆ 45098   ┆ 3       ┆ morning_3 │\n",
       "│ край          ┆           ┆                     ┆                ┆     ┆             ┆         ┆         ┆           │\n",
       "│ Краснодарский ┆ Краснодар ┆ Apple               ┆ iPhone 7       ┆ ... ┆ 1           ┆ 45098   ┆ 7       ┆ morning_7 │\n",
       "│ край          ┆           ┆                     ┆                ┆     ┆             ┆         ┆         ┆           │\n",
       "│ Краснодарский ┆ Краснодар ┆ Apple               ┆ iPhone 7       ┆ ... ┆ 1           ┆ 45098   ┆ 7       ┆ day_7     │\n",
       "│ край          ┆           ┆                     ┆                ┆     ┆             ┆         ┆         ┆           │\n",
       "│ Краснодарский ┆ Краснодар ┆ Apple               ┆ iPhone 7       ┆ ... ┆ 1           ┆ 45098   ┆ 1       ┆ day_1     │\n",
       "│ край          ┆           ┆                     ┆                ┆     ┆             ┆         ┆         ┆           │\n",
       "│ Краснодарский ┆ Краснодар ┆ Apple               ┆ iPhone 7       ┆ ... ┆ 1           ┆ 45098   ┆ 1       ┆ day_1     │\n",
       "│ край          ┆           ┆                     ┆                ┆     ┆             ┆         ┆         ┆           │\n",
       "└───────────────┴───────────┴─────────────────────┴────────────────┴─────┴─────────────┴─────────┴─────────┴───────────┘"
      ]
     },
     "execution_count": 10,
     "metadata": {},
     "output_type": "execute_result"
    }
   ],
   "source": [
    "data.head()"
   ]
  },
  {
   "cell_type": "code",
   "execution_count": 11,
   "id": "c4dc44a2-a467-4876-b58a-b821a27c5ff1",
   "metadata": {
    "tags": []
   },
   "outputs": [
    {
     "name": "stdout",
     "output_type": "stream",
     "text": [
      "CPU times: total: 1.61 s\n",
      "Wall time: 7.53 s\n"
     ]
    }
   ],
   "source": [
    "%%time\n",
    "data_tf = data.groupby('user_id').agg(pl.col('url_host'))"
   ]
  },
  {
   "cell_type": "code",
   "execution_count": 12,
   "id": "eaf4da8b-c175-4680-949b-db06075db477",
   "metadata": {},
   "outputs": [
    {
     "data": {
      "text/html": [
       "<div><style>\n",
       ".dataframe > thead > tr > th,\n",
       ".dataframe > tbody > tr > td {\n",
       "  text-align: right;\n",
       "}\n",
       "</style>\n",
       "<small>shape: (5, 2)</small><table border=\"1\" class=\"dataframe\"><thead><tr><th>user_id</th><th>url_host</th></tr><tr><td>i32</td><td>list[cat]</td></tr></thead><tbody><tr><td>182144</td><td>[&quot;api.facemojikeyboard.com&quot;, &quot;i.ytimg.com&quot;, ... &quot;mail.yandex.ru&quot;]</td></tr><tr><td>303152</td><td>[&quot;ad.adriver.ru&quot;, &quot;ad.mail.ru&quot;, ... &quot;zen.yandex.ru&quot;]</td></tr><tr><td>256752</td><td>[&quot;ok.ru&quot;, &quot;online.sberbank.ru&quot;, ... &quot;online.sberbank.ru&quot;]</td></tr><tr><td>326560</td><td>[&quot;ad.mail.ru&quot;, &quot;googleads.g.doubleclick.net&quot;, ... &quot;yastatic.net&quot;]</td></tr><tr><td>409200</td><td>[&quot;ad.adriver.ru&quot;, &quot;playep.pro&quot;, ... &quot;vk.com&quot;]</td></tr></tbody></table></div>"
      ],
      "text/plain": [
       "shape: (5, 2)\n",
       "┌─────────┬─────────────────────────────────────┐\n",
       "│ user_id ┆ url_host                            │\n",
       "│ ---     ┆ ---                                 │\n",
       "│ i32     ┆ list[cat]                           │\n",
       "╞═════════╪═════════════════════════════════════╡\n",
       "│ 182144  ┆ [\"api.facemojikeyboard.com\", \"i.... │\n",
       "│ 303152  ┆ [\"ad.adriver.ru\", \"ad.mail.ru\", ... │\n",
       "│ 256752  ┆ [\"ok.ru\", \"online.sberbank.ru\", ... │\n",
       "│ 326560  ┆ [\"ad.mail.ru\", \"googleads.g.doub... │\n",
       "│ 409200  ┆ [\"ad.adriver.ru\", \"playep.pro\", ... │\n",
       "└─────────┴─────────────────────────────────────┘"
      ]
     },
     "execution_count": 12,
     "metadata": {},
     "output_type": "execute_result"
    }
   ],
   "source": [
    "data_tf.head()"
   ]
  },
  {
   "cell_type": "code",
   "execution_count": 13,
   "id": "d9512483-dbc1-4005-9ab9-22692cf63af1",
   "metadata": {},
   "outputs": [
    {
     "data": {
      "text/html": [
       "<div><style>\n",
       ".dataframe > thead > tr > th,\n",
       ".dataframe > tbody > tr > td {\n",
       "  text-align: right;\n",
       "}\n",
       "</style>\n",
       "<small>shape: (1, 14)</small><table border=\"1\" class=\"dataframe\"><thead><tr><th>region_name</th><th>city_name</th><th>cpe_manufacturer_name</th><th>cpe_model_name</th><th>url_host</th><th>cpe_type_cd</th><th>cpe_model_os_type</th><th>price</th><th>date</th><th>part_of_day</th><th>request_cnt</th><th>user_id</th><th>weekday</th><th>wd</th></tr><tr><td>u32</td><td>u32</td><td>u32</td><td>u32</td><td>u32</td><td>u32</td><td>u32</td><td>u32</td><td>u32</td><td>u32</td><td>u32</td><td>u32</td><td>u32</td><td>u32</td></tr></thead><tbody><tr><td>0</td><td>0</td><td>0</td><td>0</td><td>0</td><td>0</td><td>0</td><td>6589482</td><td>0</td><td>0</td><td>0</td><td>0</td><td>0</td><td>0</td></tr></tbody></table></div>"
      ],
      "text/plain": [
       "shape: (1, 14)\n",
       "┌─────────────┬───────────┬───────────────────────┬────────────────┬─────┬─────────────┬─────────┬─────────┬─────┐\n",
       "│ region_name ┆ city_name ┆ cpe_manufacturer_name ┆ cpe_model_name ┆ ... ┆ request_cnt ┆ user_id ┆ weekday ┆ wd  │\n",
       "│ ---         ┆ ---       ┆ ---                   ┆ ---            ┆     ┆ ---         ┆ ---     ┆ ---     ┆ --- │\n",
       "│ u32         ┆ u32       ┆ u32                   ┆ u32            ┆     ┆ u32         ┆ u32     ┆ u32     ┆ u32 │\n",
       "╞═════════════╪═══════════╪═══════════════════════╪════════════════╪═════╪═════════════╪═════════╪═════════╪═════╡\n",
       "│ 0           ┆ 0         ┆ 0                     ┆ 0              ┆ ... ┆ 0           ┆ 0       ┆ 0       ┆ 0   │\n",
       "└─────────────┴───────────┴───────────────────────┴────────────────┴─────┴─────────────┴─────────┴─────────┴─────┘"
      ]
     },
     "execution_count": 13,
     "metadata": {},
     "output_type": "execute_result"
    }
   ],
   "source": [
    "data.null_count()"
   ]
  },
  {
   "cell_type": "markdown",
   "id": "a6584bb7-13bb-4aa6-909c-222c4469b68c",
   "metadata": {},
   "source": [
    "# Feature engineering"
   ]
  },
  {
   "cell_type": "code",
   "execution_count": 14,
   "id": "867af2c6-b6a1-4f00-b63b-114b3eb287ef",
   "metadata": {
    "tags": []
   },
   "outputs": [],
   "source": [
    "add_features = data.select([pl.col('user_id').unique()])"
   ]
  },
  {
   "cell_type": "code",
   "execution_count": 15,
   "id": "4267d762-7289-49a3-9f80-77974fb7c02d",
   "metadata": {},
   "outputs": [
    {
     "data": {
      "text/plain": [
       "(415317, 1)"
      ]
     },
     "execution_count": 15,
     "metadata": {},
     "output_type": "execute_result"
    }
   ],
   "source": [
    "add_features.shape"
   ]
  },
  {
   "cell_type": "code",
   "execution_count": 16,
   "id": "78395b45-aaf4-456b-8b0e-1540180b933d",
   "metadata": {
    "tags": []
   },
   "outputs": [],
   "source": [
    "day_part_list = data.select([pl.col('part_of_day').unique()]).to_series().to_list()"
   ]
  },
  {
   "cell_type": "code",
   "execution_count": 17,
   "id": "8c3320b7-cb44-4076-a389-90884baf1c5b",
   "metadata": {
    "tags": []
   },
   "outputs": [
    {
     "name": "stdout",
     "output_type": "stream",
     "text": [
      "CPU times: total: 19.7 s\n",
      "Wall time: 16.7 s\n"
     ]
    },
    {
     "data": {
      "text/plain": [
       "(415317, 5)"
      ]
     },
     "execution_count": 17,
     "metadata": {},
     "output_type": "execute_result"
    }
   ],
   "source": [
    "%%time\n",
    "#количество запросов по времени суток\n",
    "for day_part in day_part_list:\n",
    "    add_features = add_features.join(data.select(['part_of_day', 'request_cnt', 'user_id']) \\\n",
    "                                         .filter(pl.col('part_of_day')==day_part) \\\n",
    "                                         .groupby('user_id') \\\n",
    "                                         .agg(pl.col('request_cnt').sum().alias(f'request_cnt_{day_part}')), \n",
    "                                      how='left', on='user_id')\n",
    "\n",
    "add_features.shape"
   ]
  },
  {
   "cell_type": "code",
   "execution_count": 18,
   "id": "e7e4b10b-c099-4d67-b50c-0fcc34f5ee5a",
   "metadata": {
    "tags": []
   },
   "outputs": [
    {
     "data": {
      "text/html": [
       "<div><style>\n",
       ".dataframe > thead > tr > th,\n",
       ".dataframe > tbody > tr > td {\n",
       "  text-align: right;\n",
       "}\n",
       "</style>\n",
       "<small>shape: (5, 5)</small><table border=\"1\" class=\"dataframe\"><thead><tr><th>user_id</th><th>request_cnt_day</th><th>request_cnt_evening</th><th>request_cnt_morning</th><th>request_cnt_night</th></tr><tr><td>i32</td><td>i64</td><td>i64</td><td>i64</td><td>i64</td></tr></thead><tbody><tr><td>0</td><td>107</td><td>62</td><td>23</td><td>1</td></tr><tr><td>1</td><td>363</td><td>309</td><td>338</td><td>37</td></tr><tr><td>2</td><td>198</td><td>130</td><td>77</td><td>6</td></tr><tr><td>3</td><td>97</td><td>125</td><td>49</td><td>4</td></tr><tr><td>4</td><td>271</td><td>206</td><td>289</td><td>11</td></tr></tbody></table></div>"
      ],
      "text/plain": [
       "shape: (5, 5)\n",
       "┌─────────┬─────────────────┬─────────────────────┬─────────────────────┬───────────────────┐\n",
       "│ user_id ┆ request_cnt_day ┆ request_cnt_evening ┆ request_cnt_morning ┆ request_cnt_night │\n",
       "│ ---     ┆ ---             ┆ ---                 ┆ ---                 ┆ ---               │\n",
       "│ i32     ┆ i64             ┆ i64                 ┆ i64                 ┆ i64               │\n",
       "╞═════════╪═════════════════╪═════════════════════╪═════════════════════╪═══════════════════╡\n",
       "│ 0       ┆ 107             ┆ 62                  ┆ 23                  ┆ 1                 │\n",
       "│ 1       ┆ 363             ┆ 309                 ┆ 338                 ┆ 37                │\n",
       "│ 2       ┆ 198             ┆ 130                 ┆ 77                  ┆ 6                 │\n",
       "│ 3       ┆ 97              ┆ 125                 ┆ 49                  ┆ 4                 │\n",
       "│ 4       ┆ 271             ┆ 206                 ┆ 289                 ┆ 11                │\n",
       "└─────────┴─────────────────┴─────────────────────┴─────────────────────┴───────────────────┘"
      ]
     },
     "execution_count": 18,
     "metadata": {},
     "output_type": "execute_result"
    }
   ],
   "source": [
    "add_features.head()"
   ]
  },
  {
   "cell_type": "code",
   "execution_count": 19,
   "id": "34601c95-f0c5-4404-9629-1dd6cc87c2e7",
   "metadata": {
    "tags": []
   },
   "outputs": [
    {
     "name": "stdout",
     "output_type": "stream",
     "text": [
      "CPU times: total: 12.4 s\n",
      "Wall time: 2.08 s\n"
     ]
    }
   ],
   "source": [
    "%%time\n",
    "#модель телефона\n",
    "add_features = add_features.join(data.select(['cpe_model_name', 'user_id']) \\\n",
    "                                     .groupby('user_id') \\\n",
    "                                     .agg(pl.col('cpe_model_name').first()), \n",
    "                                 how='left', on='user_id')"
   ]
  },
  {
   "cell_type": "code",
   "execution_count": 20,
   "id": "54a3d7be-9fc6-4b7d-8699-23407bb92d79",
   "metadata": {
    "tags": []
   },
   "outputs": [
    {
     "name": "stdout",
     "output_type": "stream",
     "text": [
      "CPU times: total: 1min 16s\n",
      "Wall time: 8.31 s\n"
     ]
    }
   ],
   "source": [
    "%%time\n",
    "#город с наибольшим количеством запросов\n",
    "add_features = add_features.join(data.select(['city_name', 'user_id', 'request_cnt']) \\\n",
    "                                     .groupby('user_id', 'city_name') \\\n",
    "                                     .agg(pl.col('request_cnt').sum())\n",
    "                                     .groupby('user_id')\n",
    "                                     .agg(pl.col('city_name').sort_by('request_cnt', descending=True).first()), \n",
    "                                 how='left', on='user_id')"
   ]
  },
  {
   "cell_type": "code",
   "execution_count": 21,
   "id": "c865d57e-0b80-4d08-931b-b886476f3ddc",
   "metadata": {
    "tags": []
   },
   "outputs": [
    {
     "name": "stdout",
     "output_type": "stream",
     "text": [
      "CPU times: total: 1min\n",
      "Wall time: 7.16 s\n"
     ]
    }
   ],
   "source": [
    "%%time\n",
    "#регион с наибольшим количеством запросов\n",
    "add_features = add_features.join(data.select(['region_name', 'user_id', 'request_cnt']) \\\n",
    "                                     .groupby('user_id', 'region_name') \\\n",
    "                                     .agg(pl.col('request_cnt').sum())\n",
    "                                     .groupby('user_id')\n",
    "                                     .agg(pl.col('region_name').sort_by('request_cnt', descending=True).first()), \n",
    "                                 how='left', on='user_id')"
   ]
  },
  {
   "cell_type": "code",
   "execution_count": 22,
   "id": "0201f9ac-8c44-4dff-9140-eaa87ed39fd2",
   "metadata": {
    "tags": []
   },
   "outputs": [
    {
     "name": "stdout",
     "output_type": "stream",
     "text": [
      "CPU times: total: 12.9 s\n",
      "Wall time: 2.08 s\n"
     ]
    }
   ],
   "source": [
    "%%time\n",
    "#тип устройства\n",
    "add_features = add_features.join(data.select(['cpe_type_cd', 'user_id']) \\\n",
    "                                      .groupby('user_id') \\\n",
    "                                      .agg(pl.col('cpe_type_cd').first()), \n",
    "                                 how='left', on='user_id')"
   ]
  },
  {
   "cell_type": "code",
   "execution_count": 23,
   "id": "38155e57-bad6-4814-a57c-290ea4f6803b",
   "metadata": {
    "tags": []
   },
   "outputs": [
    {
     "name": "stdout",
     "output_type": "stream",
     "text": [
      "CPU times: total: 20.5 s\n",
      "Wall time: 4.44 s\n"
     ]
    },
    {
     "data": {
      "text/plain": [
       "(415317, 13)"
      ]
     },
     "execution_count": 23,
     "metadata": {},
     "output_type": "execute_result"
    }
   ],
   "source": [
    "%%time\n",
    "#максимальное количество запросов по времени суток\n",
    "for day_part in day_part_list:\n",
    "    add_features = add_features.join(data.select(['part_of_day', 'user_id', 'request_cnt']) \n",
    "                                         .filter(pl.col('part_of_day')==day_part)\n",
    "                                         .groupby('user_id')\n",
    "                                         .agg(pl.col('request_cnt').max().alias(f'request_cnt_max_{day_part}')),\n",
    "                                     how='left', on='user_id')\n",
    "\n",
    "add_features.shape"
   ]
  },
  {
   "cell_type": "code",
   "execution_count": 24,
   "id": "c556f619-93b5-4609-9b8d-c0512d9418b8",
   "metadata": {
    "tags": []
   },
   "outputs": [
    {
     "name": "stdout",
     "output_type": "stream",
     "text": [
      "CPU times: total: 3min 30s\n",
      "Wall time: 25.4 s\n"
     ]
    }
   ],
   "source": [
    "%%time\n",
    "#максимальное количество запросов по url\n",
    "add_features = add_features.join((data.select(['url_host', 'user_id', 'request_cnt']) \\\n",
    "                                      .groupby('user_id', 'url_host') \\\n",
    "                                      .agg(pl.col('request_cnt').sum().alias('max_per_url'))\n",
    "                                      .groupby('user_id')\n",
    "                                      .agg(pl.col('max_per_url').max())), \n",
    "                                 how='left', on='user_id')"
   ]
  },
  {
   "cell_type": "code",
   "execution_count": 25,
   "id": "f3044119-c14f-46c8-8d09-c7e0730f3d00",
   "metadata": {
    "tags": []
   },
   "outputs": [
    {
     "name": "stdout",
     "output_type": "stream",
     "text": [
      "CPU times: total: 1min 24s\n",
      "Wall time: 9.12 s\n"
     ]
    }
   ],
   "source": [
    "%%time\n",
    "#максимальное количество запросов за день\n",
    "add_features = add_features.join(data.select(['date', 'user_id', 'request_cnt']) \\\n",
    "                                     .groupby('user_id', 'date') \\\n",
    "                                     .agg(pl.col('request_cnt').sum().alias('max_per_day'))\n",
    "                                     .groupby('user_id')\n",
    "                                     .agg(pl.col('max_per_day').max()), \n",
    "                                 how='left', on='user_id')"
   ]
  },
  {
   "cell_type": "code",
   "execution_count": 26,
   "id": "8852c421-c0ce-4267-94ac-d43e6edfbdff",
   "metadata": {
    "tags": []
   },
   "outputs": [
    {
     "name": "stdout",
     "output_type": "stream",
     "text": [
      "CPU times: total: 0 ns\n",
      "Wall time: 42.3 ms\n"
     ]
    }
   ],
   "source": [
    "%%time\n",
    "#суммарное количество запросов\n",
    "add_features = add_features.with_columns([(pl.col('request_cnt_day') + \n",
    "                                           pl.col('request_cnt_evening') +\n",
    "                                           pl.col('request_cnt_morning') +\n",
    "                                           pl.col('request_cnt_night')).alias('total_cnt')\n",
    "                                          ])"
   ]
  },
  {
   "cell_type": "code",
   "execution_count": 27,
   "id": "add9223d-9b48-4754-baa9-3036b530df38",
   "metadata": {
    "tags": []
   },
   "outputs": [
    {
     "name": "stdout",
     "output_type": "stream",
     "text": [
      "CPU times: total: 12.5 s\n",
      "Wall time: 2.05 s\n"
     ]
    }
   ],
   "source": [
    "%%time\n",
    "#производитель устройства\n",
    "add_features = add_features.join(data.select(['cpe_manufacturer_name', 'user_id']) \\\n",
    "                                     .groupby('user_id') \\\n",
    "                                     .agg(pl.col('cpe_manufacturer_name').first()), \n",
    "                                 how='left', on='user_id')"
   ]
  },
  {
   "cell_type": "code",
   "execution_count": 28,
   "id": "b0b88f44-4b62-4238-a9d9-8a331ef31bd6",
   "metadata": {
    "tags": []
   },
   "outputs": [
    {
     "name": "stdout",
     "output_type": "stream",
     "text": [
      "CPU times: total: 13.4 s\n",
      "Wall time: 2.03 s\n"
     ]
    }
   ],
   "source": [
    "%%time\n",
    "#ос устройства\n",
    "add_features = add_features.join(data.select(['cpe_model_os_type', 'user_id']) \\\n",
    "                                     .groupby('user_id') \\\n",
    "                                     .agg(pl.col('cpe_model_os_type').first()), \n",
    "                                 how='left', on='user_id')"
   ]
  },
  {
   "cell_type": "code",
   "execution_count": 29,
   "id": "9fccaec0-9fc8-4b1e-86c0-1d2d2391ebf9",
   "metadata": {
    "tags": []
   },
   "outputs": [
    {
     "name": "stdout",
     "output_type": "stream",
     "text": [
      "CPU times: total: 18.7 s\n",
      "Wall time: 1.51 s\n"
     ]
    }
   ],
   "source": [
    "%%time\n",
    "#количество уникальных регионов\n",
    "add_features = add_features.join(data.select(['region_name','user_id']) \\\n",
    "                                     .groupby('user_id') \\\n",
    "                                     .agg(pl.col('region_name').n_unique().alias('region_name_count')), \n",
    "                                 how='left', on='user_id')"
   ]
  },
  {
   "cell_type": "code",
   "execution_count": 30,
   "id": "9d2339f5-aa74-4687-a4f3-b5fcd5265fa1",
   "metadata": {},
   "outputs": [
    {
     "name": "stdout",
     "output_type": "stream",
     "text": [
      "CPU times: total: 37.2 s\n",
      "Wall time: 5.87 s\n"
     ]
    }
   ],
   "source": [
    "%%time\n",
    "#количество уникальных городов\n",
    "add_features = add_features.join(data.select(['city_name','user_id']) \\\n",
    "                                     .groupby('user_id') \\\n",
    "                                     .agg(pl.col('city_name').n_unique().alias('city_name_count')), \n",
    "                                 how='left', on='user_id')"
   ]
  },
  {
   "cell_type": "code",
   "execution_count": 31,
   "id": "2c6bd837-2351-4d3e-9665-05b7de21ac36",
   "metadata": {
    "tags": []
   },
   "outputs": [
    {
     "name": "stdout",
     "output_type": "stream",
     "text": [
      "CPU times: total: 22.8 s\n",
      "Wall time: 2.66 s\n"
     ]
    }
   ],
   "source": [
    "%%time\n",
    "#количество уникальных url\n",
    "add_features = add_features.join(data.select(['url_host','user_id']) \\\n",
    "                                     .groupby('user_id') \\\n",
    "                                     .agg(pl.col('url_host').n_unique().alias('url_host_count')), \n",
    "                                 how='left', on='user_id')"
   ]
  },
  {
   "cell_type": "code",
   "execution_count": 32,
   "id": "c8b0de9e-5ab9-40bf-99b6-e848741ce0a4",
   "metadata": {
    "tags": []
   },
   "outputs": [
    {
     "name": "stdout",
     "output_type": "stream",
     "text": [
      "CPU times: total: 48.5 s\n",
      "Wall time: 9.04 s\n"
     ]
    }
   ],
   "source": [
    "%%time\n",
    "#средняя цена устройства\n",
    "add_features = add_features.join(data.select(['price','user_id']) \\\n",
    "                                     .groupby('user_id') \\\n",
    "                                     .agg(pl.col('price').mean()), \n",
    "                                 how='left', on='user_id')"
   ]
  },
  {
   "cell_type": "code",
   "execution_count": 33,
   "id": "dc2a6502-afff-47f7-a326-4aa4f794b75b",
   "metadata": {
    "tags": []
   },
   "outputs": [
    {
     "data": {
      "text/html": [
       "<div><style>\n",
       ".dataframe > thead > tr > th,\n",
       ".dataframe > tbody > tr > td {\n",
       "  text-align: right;\n",
       "}\n",
       "</style>\n",
       "<small>shape: (5, 22)</small><table border=\"1\" class=\"dataframe\"><thead><tr><th>user_id</th><th>request_cnt_day</th><th>request_cnt_evening</th><th>request_cnt_morning</th><th>request_cnt_night</th><th>cpe_model_name</th><th>city_name</th><th>region_name</th><th>cpe_type_cd</th><th>request_cnt_max_day</th><th>request_cnt_max_evening</th><th>request_cnt_max_morning</th><th>request_cnt_max_night</th><th>max_per_url</th><th>max_per_day</th><th>total_cnt</th><th>cpe_manufacturer_name</th><th>cpe_model_os_type</th><th>region_name_count</th><th>city_name_count</th><th>url_host_count</th><th>price</th></tr><tr><td>i32</td><td>i64</td><td>i64</td><td>i64</td><td>i64</td><td>cat</td><td>cat</td><td>cat</td><td>cat</td><td>i8</td><td>i8</td><td>i8</td><td>i8</td><td>i64</td><td>i64</td><td>i64</td><td>cat</td><td>cat</td><td>u32</td><td>u32</td><td>u32</td><td>f32</td></tr></thead><tbody><tr><td>0</td><td>107</td><td>62</td><td>23</td><td>1</td><td>&quot;Galaxy J1 2016...</td><td>&quot;Москва&quot;</td><td>&quot;Москва&quot;</td><td>&quot;smartphone&quot;</td><td>5</td><td>3</td><td>2</td><td>1</td><td>38</td><td>82</td><td>193</td><td>&quot;Samsung&quot;</td><td>&quot;Android&quot;</td><td>1</td><td>1</td><td>52</td><td>2990.0</td></tr><tr><td>1</td><td>363</td><td>309</td><td>338</td><td>37</td><td>&quot;Mi 9&quot;</td><td>&quot;Москва&quot;</td><td>&quot;Москва&quot;</td><td>&quot;smartphone&quot;</td><td>6</td><td>5</td><td>5</td><td>3</td><td>144</td><td>102</td><td>1047</td><td>&quot;Xiaomi&quot;</td><td>&quot;Android&quot;</td><td>3</td><td>6</td><td>136</td><td>null</td></tr><tr><td>2</td><td>198</td><td>130</td><td>77</td><td>6</td><td>&quot;Honor 9 Lite&quot;</td><td>&quot;Печора&quot;</td><td>&quot;Республика Ком...</td><td>&quot;smartphone&quot;</td><td>4</td><td>4</td><td>3</td><td>1</td><td>58</td><td>31</td><td>411</td><td>&quot;Huawei&quot;</td><td>&quot;Android&quot;</td><td>1</td><td>1</td><td>51</td><td>5915.0</td></tr><tr><td>3</td><td>97</td><td>125</td><td>49</td><td>4</td><td>&quot;P Smart 2021&quot;</td><td>&quot;Воронеж&quot;</td><td>&quot;Воронежская об...</td><td>&quot;smartphone&quot;</td><td>5</td><td>5</td><td>2</td><td>2</td><td>49</td><td>34</td><td>275</td><td>&quot;Huawei Device ...</td><td>&quot;Android&quot;</td><td>1</td><td>1</td><td>43</td><td>13990.0</td></tr><tr><td>4</td><td>271</td><td>206</td><td>289</td><td>11</td><td>&quot;Nova 3&quot;</td><td>&quot;Анапа&quot;</td><td>&quot;Краснодарский ...</td><td>&quot;smartphone&quot;</td><td>5</td><td>4</td><td>4</td><td>2</td><td>65</td><td>107</td><td>777</td><td>&quot;Huawei&quot;</td><td>&quot;Android&quot;</td><td>5</td><td>9</td><td>108</td><td>12990.0</td></tr></tbody></table></div>"
      ],
      "text/plain": [
       "shape: (5, 22)\n",
       "┌─────────┬───────────────┬───────────────┬───────────────┬─────┬──────────────┬──────────────┬──────────────┬─────────┐\n",
       "│ user_id ┆ request_cnt_d ┆ request_cnt_e ┆ request_cnt_m ┆ ... ┆ region_name_ ┆ city_name_co ┆ url_host_cou ┆ price   │\n",
       "│ ---     ┆ ay            ┆ vening        ┆ orning        ┆     ┆ count        ┆ unt          ┆ nt           ┆ ---     │\n",
       "│ i32     ┆ ---           ┆ ---           ┆ ---           ┆     ┆ ---          ┆ ---          ┆ ---          ┆ f32     │\n",
       "│         ┆ i64           ┆ i64           ┆ i64           ┆     ┆ u32          ┆ u32          ┆ u32          ┆         │\n",
       "╞═════════╪═══════════════╪═══════════════╪═══════════════╪═════╪══════════════╪══════════════╪══════════════╪═════════╡\n",
       "│ 0       ┆ 107           ┆ 62            ┆ 23            ┆ ... ┆ 1            ┆ 1            ┆ 52           ┆ 2990.0  │\n",
       "│ 1       ┆ 363           ┆ 309           ┆ 338           ┆ ... ┆ 3            ┆ 6            ┆ 136          ┆ null    │\n",
       "│ 2       ┆ 198           ┆ 130           ┆ 77            ┆ ... ┆ 1            ┆ 1            ┆ 51           ┆ 5915.0  │\n",
       "│ 3       ┆ 97            ┆ 125           ┆ 49            ┆ ... ┆ 1            ┆ 1            ┆ 43           ┆ 13990.0 │\n",
       "│ 4       ┆ 271           ┆ 206           ┆ 289           ┆ ... ┆ 5            ┆ 9            ┆ 108          ┆ 12990.0 │\n",
       "└─────────┴───────────────┴───────────────┴───────────────┴─────┴──────────────┴──────────────┴──────────────┴─────────┘"
      ]
     },
     "execution_count": 33,
     "metadata": {},
     "output_type": "execute_result"
    }
   ],
   "source": [
    "add_features.head()"
   ]
  },
  {
   "cell_type": "code",
   "execution_count": 34,
   "id": "61f83193-c8db-4a3e-a09a-206aeeb2a5d8",
   "metadata": {
    "tags": []
   },
   "outputs": [
    {
     "data": {
      "text/html": [
       "<div><style>\n",
       ".dataframe > thead > tr > th,\n",
       ".dataframe > tbody > tr > td {\n",
       "  text-align: right;\n",
       "}\n",
       "</style>\n",
       "<small>shape: (1, 22)</small><table border=\"1\" class=\"dataframe\"><thead><tr><th>user_id</th><th>request_cnt_day</th><th>request_cnt_evening</th><th>request_cnt_morning</th><th>request_cnt_night</th><th>cpe_model_name</th><th>city_name</th><th>region_name</th><th>cpe_type_cd</th><th>request_cnt_max_day</th><th>request_cnt_max_evening</th><th>request_cnt_max_morning</th><th>request_cnt_max_night</th><th>max_per_url</th><th>max_per_day</th><th>total_cnt</th><th>cpe_manufacturer_name</th><th>cpe_model_os_type</th><th>region_name_count</th><th>city_name_count</th><th>url_host_count</th><th>price</th></tr><tr><td>u32</td><td>u32</td><td>u32</td><td>u32</td><td>u32</td><td>u32</td><td>u32</td><td>u32</td><td>u32</td><td>u32</td><td>u32</td><td>u32</td><td>u32</td><td>u32</td><td>u32</td><td>u32</td><td>u32</td><td>u32</td><td>u32</td><td>u32</td><td>u32</td><td>u32</td></tr></thead><tbody><tr><td>0</td><td>11608</td><td>25146</td><td>20757</td><td>77471</td><td>0</td><td>0</td><td>0</td><td>0</td><td>11608</td><td>25146</td><td>20757</td><td>77471</td><td>0</td><td>0</td><td>84888</td><td>0</td><td>0</td><td>0</td><td>0</td><td>0</td><td>10703</td></tr></tbody></table></div>"
      ],
      "text/plain": [
       "shape: (1, 22)\n",
       "┌─────────┬───────────────┬───────────────┬───────────────┬─────┬───────────────┬───────────────┬──────────────┬───────┐\n",
       "│ user_id ┆ request_cnt_d ┆ request_cnt_e ┆ request_cnt_m ┆ ... ┆ region_name_c ┆ city_name_cou ┆ url_host_cou ┆ price │\n",
       "│ ---     ┆ ay            ┆ vening        ┆ orning        ┆     ┆ ount          ┆ nt            ┆ nt           ┆ ---   │\n",
       "│ u32     ┆ ---           ┆ ---           ┆ ---           ┆     ┆ ---           ┆ ---           ┆ ---          ┆ u32   │\n",
       "│         ┆ u32           ┆ u32           ┆ u32           ┆     ┆ u32           ┆ u32           ┆ u32          ┆       │\n",
       "╞═════════╪═══════════════╪═══════════════╪═══════════════╪═════╪═══════════════╪═══════════════╪══════════════╪═══════╡\n",
       "│ 0       ┆ 11608         ┆ 25146         ┆ 20757         ┆ ... ┆ 0             ┆ 0             ┆ 0            ┆ 10703 │\n",
       "└─────────┴───────────────┴───────────────┴───────────────┴─────┴───────────────┴───────────────┴──────────────┴───────┘"
      ]
     },
     "execution_count": 34,
     "metadata": {},
     "output_type": "execute_result"
    }
   ],
   "source": [
    "add_features.null_count()"
   ]
  },
  {
   "cell_type": "code",
   "execution_count": 35,
   "id": "1d58e905-87f4-46d1-ba9b-ed1e82a1413c",
   "metadata": {
    "tags": []
   },
   "outputs": [],
   "source": [
    "add_features = add_features.with_columns(pl.col('price').fill_null(strategy='mean'))"
   ]
  },
  {
   "cell_type": "code",
   "execution_count": 36,
   "id": "b2844bfd-9cdf-4a33-8911-37756ba392d6",
   "metadata": {
    "tags": []
   },
   "outputs": [
    {
     "name": "stdout",
     "output_type": "stream",
     "text": [
      "CPU times: total: 0 ns\n",
      "Wall time: 62.5 ms\n"
     ]
    }
   ],
   "source": [
    "%%time\n",
    "add_features = add_features.with_columns(pl.col('request_cnt_day').fill_null(value=0),\n",
    "                                         pl.col('request_cnt_evening').fill_null(value=0),\n",
    "                                         pl.col('request_cnt_morning').fill_null(value=0),\n",
    "                                         pl.col('request_cnt_night').fill_null(value=0),\n",
    "                                         pl.col('total_cnt').fill_null(value=0))"
   ]
  },
  {
   "cell_type": "code",
   "execution_count": 37,
   "id": "eecdd0d5-500b-405c-9b97-0ce7b509b283",
   "metadata": {
    "tags": []
   },
   "outputs": [
    {
     "name": "stdout",
     "output_type": "stream",
     "text": [
      "CPU times: total: 0 ns\n",
      "Wall time: 24.6 ms\n"
     ]
    }
   ],
   "source": [
    "%%time\n",
    "add_features = add_features.with_columns(pl.col('request_cnt_max_day').fill_null(value=0),\n",
    "                                         pl.col('request_cnt_max_evening').fill_null(value=0),\n",
    "                                         pl.col('request_cnt_max_morning').fill_null(value=0),\n",
    "                                         pl.col('request_cnt_max_night').fill_null(value=0))"
   ]
  },
  {
   "cell_type": "code",
   "execution_count": 38,
   "id": "6099ecda-cf7b-4bce-9582-beda7dd5c22e",
   "metadata": {
    "tags": []
   },
   "outputs": [
    {
     "data": {
      "text/html": [
       "<div><style>\n",
       ".dataframe > thead > tr > th,\n",
       ".dataframe > tbody > tr > td {\n",
       "  text-align: right;\n",
       "}\n",
       "</style>\n",
       "<small>shape: (1, 22)</small><table border=\"1\" class=\"dataframe\"><thead><tr><th>user_id</th><th>request_cnt_day</th><th>request_cnt_evening</th><th>request_cnt_morning</th><th>request_cnt_night</th><th>cpe_model_name</th><th>city_name</th><th>region_name</th><th>cpe_type_cd</th><th>request_cnt_max_day</th><th>request_cnt_max_evening</th><th>request_cnt_max_morning</th><th>request_cnt_max_night</th><th>max_per_url</th><th>max_per_day</th><th>total_cnt</th><th>cpe_manufacturer_name</th><th>cpe_model_os_type</th><th>region_name_count</th><th>city_name_count</th><th>url_host_count</th><th>price</th></tr><tr><td>u32</td><td>u32</td><td>u32</td><td>u32</td><td>u32</td><td>u32</td><td>u32</td><td>u32</td><td>u32</td><td>u32</td><td>u32</td><td>u32</td><td>u32</td><td>u32</td><td>u32</td><td>u32</td><td>u32</td><td>u32</td><td>u32</td><td>u32</td><td>u32</td><td>u32</td></tr></thead><tbody><tr><td>0</td><td>0</td><td>0</td><td>0</td><td>0</td><td>0</td><td>0</td><td>0</td><td>0</td><td>0</td><td>0</td><td>0</td><td>0</td><td>0</td><td>0</td><td>0</td><td>0</td><td>0</td><td>0</td><td>0</td><td>0</td><td>0</td></tr></tbody></table></div>"
      ],
      "text/plain": [
       "shape: (1, 22)\n",
       "┌─────────┬───────────────┬───────────────┬───────────────┬─────┬───────────────┬───────────────┬──────────────┬───────┐\n",
       "│ user_id ┆ request_cnt_d ┆ request_cnt_e ┆ request_cnt_m ┆ ... ┆ region_name_c ┆ city_name_cou ┆ url_host_cou ┆ price │\n",
       "│ ---     ┆ ay            ┆ vening        ┆ orning        ┆     ┆ ount          ┆ nt            ┆ nt           ┆ ---   │\n",
       "│ u32     ┆ ---           ┆ ---           ┆ ---           ┆     ┆ ---           ┆ ---           ┆ ---          ┆ u32   │\n",
       "│         ┆ u32           ┆ u32           ┆ u32           ┆     ┆ u32           ┆ u32           ┆ u32          ┆       │\n",
       "╞═════════╪═══════════════╪═══════════════╪═══════════════╪═════╪═══════════════╪═══════════════╪══════════════╪═══════╡\n",
       "│ 0       ┆ 0             ┆ 0             ┆ 0             ┆ ... ┆ 0             ┆ 0             ┆ 0            ┆ 0     │\n",
       "└─────────┴───────────────┴───────────────┴───────────────┴─────┴───────────────┴───────────────┴──────────────┴───────┘"
      ]
     },
     "execution_count": 38,
     "metadata": {},
     "output_type": "execute_result"
    }
   ],
   "source": [
    "add_features.null_count()"
   ]
  },
  {
   "cell_type": "code",
   "execution_count": 39,
   "id": "ef369a0c-aaa8-417f-979e-a65889f90de1",
   "metadata": {
    "tags": []
   },
   "outputs": [
    {
     "name": "stdout",
     "output_type": "stream",
     "text": [
      "CPU times: total: 35 s\n",
      "Wall time: 6.49 s\n"
     ]
    }
   ],
   "source": [
    "%%time\n",
    "#список 2500 самых популярных url\n",
    "top_2500 = (data.select('url_host', 'request_cnt')\n",
    "                .groupby('url_host')\n",
    "                .agg(pl.col('request_cnt').sum())\n",
    "                .sort('request_cnt', descending=True)\n",
    "                .limit(2500)).select('url_host').to_pandas()['url_host'].to_list()"
   ]
  },
  {
   "cell_type": "code",
   "execution_count": 40,
   "id": "11ae1f91-48d2-4f6d-a731-d6b112dd6b3a",
   "metadata": {
    "tags": []
   },
   "outputs": [
    {
     "name": "stdout",
     "output_type": "stream",
     "text": [
      "CPU times: total: 5min 26s\n",
      "Wall time: 1min 58s\n"
     ]
    }
   ],
   "source": [
    "%%time\n",
    "#2500 самых популярных url\n",
    "add_features = add_features.join(data.select('user_id', 'request_cnt', 'url_host')\n",
    "                                     .filter(pl.col('url_host').cast(pl.Utf8).is_in(top_2500))\n",
    "                                     .pivot(values='request_cnt', \n",
    "                                            index='user_id', \n",
    "                                            columns='url_host', \n",
    "                                            aggregate_function='sum'),\n",
    "                                 how='left', on='user_id')"
   ]
  },
  {
   "cell_type": "code",
   "execution_count": 41,
   "id": "ff4d2938-0abe-4ae4-9b29-6b6dadf18411",
   "metadata": {
    "tags": []
   },
   "outputs": [
    {
     "data": {
      "text/html": [
       "<div><style>\n",
       ".dataframe > thead > tr > th,\n",
       ".dataframe > tbody > tr > td {\n",
       "  text-align: right;\n",
       "}\n",
       "</style>\n",
       "<small>shape: (1, 2522)</small><table border=\"1\" class=\"dataframe\"><thead><tr><th>user_id</th><th>request_cnt_day</th><th>request_cnt_evening</th><th>request_cnt_morning</th><th>request_cnt_night</th><th>cpe_model_name</th><th>city_name</th><th>region_name</th><th>cpe_type_cd</th><th>request_cnt_max_day</th><th>request_cnt_max_evening</th><th>request_cnt_max_morning</th><th>request_cnt_max_night</th><th>max_per_url</th><th>max_per_day</th><th>total_cnt</th><th>cpe_manufacturer_name</th><th>cpe_model_os_type</th><th>region_name_count</th><th>city_name_count</th><th>url_host_count</th><th>price</th><th>ad.adriver.ru</th><th>apple.com</th><th>avatars.mds.yandex.net</th><th>googleads.g.doubleclick.net</th><th>i.ytimg.com</th><th>icloud.com</th><th>m.avito.ru</th><th>relap.io</th><th>sun9-5.userapi.com</th><th>ads.adfox.ru</th><th>banners.adfox.ru</th><th>mail.yandex.ru</th><th>syndication.realsrv.com</th><th>ad.mail.ru</th><th>sun9-77.userapi.com</th><th>...</th><th>my.games</th><th>serialmix.ru</th><th>animevost.org</th><th>svetofor-magazin.su</th><th>gdedps.com</th><th>poisk123.ru</th><th>ww1.survey-smiles.com</th><th>portal.mi-room.ru</th><th>off.daily-inform.ru</th><th>oksmi.site</th><th>avalon-3.antorgps.com</th><th>hitmo.org</th><th>w1.dwar.ru</th><th>besposrednika.ru</th><th>maximum.ru</th><th>fclmnews.ru</th><th>fanat1k.ru</th><th>ognyvo.ru</th><th>saas.navixy.com</th><th>v2.vost.pw</th><th>anybalance.ru</th><th>ya-turbo.ru</th><th>sverhestestvennoe.club</th><th>hawk.live</th><th>dh-online.ru</th><th>seasonhit.tk</th><th>gotovim-online.ru</th><th>w3m.huawei.com</th><th>huawei.fotostrana.ru</th><th>news-show.online</th><th>hmn.ru</th><th>ladys-room.ru</th><th>info.flyredwings.com</th><th>wap1.3101010.ru</th><th>ranobes.com</th><th>d3.taxinonstop.ru</th><th>avalon.antorgps.com</th></tr><tr><td>u32</td><td>u32</td><td>u32</td><td>u32</td><td>u32</td><td>u32</td><td>u32</td><td>u32</td><td>u32</td><td>u32</td><td>u32</td><td>u32</td><td>u32</td><td>u32</td><td>u32</td><td>u32</td><td>u32</td><td>u32</td><td>u32</td><td>u32</td><td>u32</td><td>u32</td><td>u32</td><td>u32</td><td>u32</td><td>u32</td><td>u32</td><td>u32</td><td>u32</td><td>u32</td><td>u32</td><td>u32</td><td>u32</td><td>u32</td><td>u32</td><td>u32</td><td>u32</td><td>...</td><td>u32</td><td>u32</td><td>u32</td><td>u32</td><td>u32</td><td>u32</td><td>u32</td><td>u32</td><td>u32</td><td>u32</td><td>u32</td><td>u32</td><td>u32</td><td>u32</td><td>u32</td><td>u32</td><td>u32</td><td>u32</td><td>u32</td><td>u32</td><td>u32</td><td>u32</td><td>u32</td><td>u32</td><td>u32</td><td>u32</td><td>u32</td><td>u32</td><td>u32</td><td>u32</td><td>u32</td><td>u32</td><td>u32</td><td>u32</td><td>u32</td><td>u32</td><td>u32</td></tr></thead><tbody><tr><td>0</td><td>0</td><td>0</td><td>0</td><td>0</td><td>0</td><td>0</td><td>0</td><td>0</td><td>0</td><td>0</td><td>0</td><td>0</td><td>0</td><td>0</td><td>0</td><td>0</td><td>0</td><td>0</td><td>0</td><td>0</td><td>0</td><td>123749</td><td>271678</td><td>32625</td><td>20755</td><td>34049</td><td>316465</td><td>274203</td><td>173510</td><td>189399</td><td>83713</td><td>219851</td><td>180631</td><td>324042</td><td>40579</td><td>208872</td><td>...</td><td>415174</td><td>415237</td><td>415213</td><td>415262</td><td>415210</td><td>415150</td><td>415104</td><td>415237</td><td>415285</td><td>415172</td><td>415210</td><td>415224</td><td>415257</td><td>415098</td><td>415125</td><td>415189</td><td>414992</td><td>415269</td><td>415242</td><td>415255</td><td>415266</td><td>415209</td><td>415257</td><td>415201</td><td>415174</td><td>415240</td><td>415283</td><td>415290</td><td>415222</td><td>415207</td><td>415306</td><td>415265</td><td>415293</td><td>415282</td><td>415201</td><td>415267</td><td>415222</td></tr></tbody></table></div>"
      ],
      "text/plain": [
       "shape: (1, 2522)\n",
       "┌─────────┬────────────┬───────────────┬──────────────┬─────┬──────────────┬─────────────┬──────────────┬──────────────┐\n",
       "│ user_id ┆ request_cn ┆ request_cnt_e ┆ request_cnt_ ┆ ... ┆ wap1.3101010 ┆ ranobes.com ┆ d3.taxinonst ┆ avalon.antor │\n",
       "│ ---     ┆ t_day      ┆ vening        ┆ morning      ┆     ┆ .ru          ┆ ---         ┆ op.ru        ┆ gps.com      │\n",
       "│ u32     ┆ ---        ┆ ---           ┆ ---          ┆     ┆ ---          ┆ u32         ┆ ---          ┆ ---          │\n",
       "│         ┆ u32        ┆ u32           ┆ u32          ┆     ┆ u32          ┆             ┆ u32          ┆ u32          │\n",
       "╞═════════╪════════════╪═══════════════╪══════════════╪═════╪══════════════╪═════════════╪══════════════╪══════════════╡\n",
       "│ 0       ┆ 0          ┆ 0             ┆ 0            ┆ ... ┆ 415282       ┆ 415201      ┆ 415267       ┆ 415222       │\n",
       "└─────────┴────────────┴───────────────┴──────────────┴─────┴──────────────┴─────────────┴──────────────┴──────────────┘"
      ]
     },
     "execution_count": 41,
     "metadata": {},
     "output_type": "execute_result"
    }
   ],
   "source": [
    "add_features.null_count()"
   ]
  },
  {
   "cell_type": "code",
   "execution_count": 42,
   "id": "dd8ea931-9c77-4cab-8df6-7bd3b9362894",
   "metadata": {},
   "outputs": [],
   "source": [
    "add_features = add_features.with_columns(pl.col(top_2500).fill_null(value=0))"
   ]
  },
  {
   "cell_type": "code",
   "execution_count": 43,
   "id": "7783b57c-9f78-4f29-98c3-da4f094cd1ee",
   "metadata": {
    "tags": []
   },
   "outputs": [
    {
     "data": {
      "text/html": [
       "<div><style>\n",
       ".dataframe > thead > tr > th,\n",
       ".dataframe > tbody > tr > td {\n",
       "  text-align: right;\n",
       "}\n",
       "</style>\n",
       "<small>shape: (5, 2522)</small><table border=\"1\" class=\"dataframe\"><thead><tr><th>user_id</th><th>request_cnt_day</th><th>request_cnt_evening</th><th>request_cnt_morning</th><th>request_cnt_night</th><th>cpe_model_name</th><th>city_name</th><th>region_name</th><th>cpe_type_cd</th><th>request_cnt_max_day</th><th>request_cnt_max_evening</th><th>request_cnt_max_morning</th><th>request_cnt_max_night</th><th>max_per_url</th><th>max_per_day</th><th>total_cnt</th><th>cpe_manufacturer_name</th><th>cpe_model_os_type</th><th>region_name_count</th><th>city_name_count</th><th>url_host_count</th><th>price</th><th>ad.adriver.ru</th><th>apple.com</th><th>avatars.mds.yandex.net</th><th>googleads.g.doubleclick.net</th><th>i.ytimg.com</th><th>icloud.com</th><th>m.avito.ru</th><th>relap.io</th><th>sun9-5.userapi.com</th><th>ads.adfox.ru</th><th>banners.adfox.ru</th><th>mail.yandex.ru</th><th>syndication.realsrv.com</th><th>ad.mail.ru</th><th>sun9-77.userapi.com</th><th>...</th><th>my.games</th><th>serialmix.ru</th><th>animevost.org</th><th>svetofor-magazin.su</th><th>gdedps.com</th><th>poisk123.ru</th><th>ww1.survey-smiles.com</th><th>portal.mi-room.ru</th><th>off.daily-inform.ru</th><th>oksmi.site</th><th>avalon-3.antorgps.com</th><th>hitmo.org</th><th>w1.dwar.ru</th><th>besposrednika.ru</th><th>maximum.ru</th><th>fclmnews.ru</th><th>fanat1k.ru</th><th>ognyvo.ru</th><th>saas.navixy.com</th><th>v2.vost.pw</th><th>anybalance.ru</th><th>ya-turbo.ru</th><th>sverhestestvennoe.club</th><th>hawk.live</th><th>dh-online.ru</th><th>seasonhit.tk</th><th>gotovim-online.ru</th><th>w3m.huawei.com</th><th>huawei.fotostrana.ru</th><th>news-show.online</th><th>hmn.ru</th><th>ladys-room.ru</th><th>info.flyredwings.com</th><th>wap1.3101010.ru</th><th>ranobes.com</th><th>d3.taxinonstop.ru</th><th>avalon.antorgps.com</th></tr><tr><td>i32</td><td>i64</td><td>i64</td><td>i64</td><td>i64</td><td>cat</td><td>cat</td><td>cat</td><td>cat</td><td>i8</td><td>i8</td><td>i8</td><td>i8</td><td>i64</td><td>i64</td><td>i64</td><td>cat</td><td>cat</td><td>u32</td><td>u32</td><td>u32</td><td>f32</td><td>i64</td><td>i64</td><td>i64</td><td>i64</td><td>i64</td><td>i64</td><td>i64</td><td>i64</td><td>i64</td><td>i64</td><td>i64</td><td>i64</td><td>i64</td><td>i64</td><td>i64</td><td>...</td><td>i64</td><td>i64</td><td>i64</td><td>i64</td><td>i64</td><td>i64</td><td>i64</td><td>i64</td><td>i64</td><td>i64</td><td>i64</td><td>i64</td><td>i64</td><td>i64</td><td>i64</td><td>i64</td><td>i64</td><td>i64</td><td>i64</td><td>i64</td><td>i64</td><td>i64</td><td>i64</td><td>i64</td><td>i64</td><td>i64</td><td>i64</td><td>i64</td><td>i64</td><td>i64</td><td>i64</td><td>i64</td><td>i64</td><td>i64</td><td>i64</td><td>i64</td><td>i64</td></tr></thead><tbody><tr><td>0</td><td>107</td><td>62</td><td>23</td><td>1</td><td>&quot;Galaxy J1 2016...</td><td>&quot;Москва&quot;</td><td>&quot;Москва&quot;</td><td>&quot;smartphone&quot;</td><td>5</td><td>3</td><td>2</td><td>1</td><td>38</td><td>82</td><td>193</td><td>&quot;Samsung&quot;</td><td>&quot;Android&quot;</td><td>1</td><td>1</td><td>52</td><td>2990.0</td><td>1</td><td>0</td><td>9</td><td>38</td><td>5</td><td>0</td><td>4</td><td>2</td><td>0</td><td>5</td><td>2</td><td>0</td><td>0</td><td>6</td><td>0</td><td>...</td><td>0</td><td>0</td><td>0</td><td>0</td><td>0</td><td>0</td><td>0</td><td>0</td><td>0</td><td>0</td><td>0</td><td>0</td><td>0</td><td>0</td><td>0</td><td>0</td><td>0</td><td>0</td><td>0</td><td>0</td><td>0</td><td>0</td><td>0</td><td>0</td><td>0</td><td>0</td><td>0</td><td>0</td><td>0</td><td>0</td><td>0</td><td>0</td><td>0</td><td>0</td><td>0</td><td>0</td><td>0</td></tr><tr><td>1</td><td>363</td><td>309</td><td>338</td><td>37</td><td>&quot;Mi 9&quot;</td><td>&quot;Москва&quot;</td><td>&quot;Москва&quot;</td><td>&quot;smartphone&quot;</td><td>6</td><td>5</td><td>5</td><td>3</td><td>144</td><td>102</td><td>1047</td><td>&quot;Xiaomi&quot;</td><td>&quot;Android&quot;</td><td>3</td><td>6</td><td>136</td><td>28749.511719</td><td>7</td><td>0</td><td>109</td><td>76</td><td>42</td><td>0</td><td>0</td><td>6</td><td>0</td><td>20</td><td>2</td><td>144</td><td>0</td><td>36</td><td>0</td><td>...</td><td>0</td><td>0</td><td>0</td><td>0</td><td>0</td><td>0</td><td>0</td><td>0</td><td>0</td><td>0</td><td>0</td><td>0</td><td>0</td><td>0</td><td>0</td><td>0</td><td>0</td><td>0</td><td>0</td><td>0</td><td>0</td><td>0</td><td>0</td><td>0</td><td>0</td><td>0</td><td>0</td><td>0</td><td>0</td><td>0</td><td>0</td><td>0</td><td>0</td><td>0</td><td>0</td><td>0</td><td>0</td></tr><tr><td>2</td><td>198</td><td>130</td><td>77</td><td>6</td><td>&quot;Honor 9 Lite&quot;</td><td>&quot;Печора&quot;</td><td>&quot;Республика Ком...</td><td>&quot;smartphone&quot;</td><td>4</td><td>4</td><td>3</td><td>1</td><td>58</td><td>31</td><td>411</td><td>&quot;Huawei&quot;</td><td>&quot;Android&quot;</td><td>1</td><td>1</td><td>51</td><td>5915.0</td><td>0</td><td>0</td><td>30</td><td>38</td><td>52</td><td>0</td><td>0</td><td>0</td><td>2</td><td>11</td><td>0</td><td>0</td><td>0</td><td>16</td><td>4</td><td>...</td><td>0</td><td>0</td><td>0</td><td>0</td><td>0</td><td>0</td><td>0</td><td>0</td><td>0</td><td>0</td><td>0</td><td>0</td><td>0</td><td>0</td><td>0</td><td>0</td><td>0</td><td>0</td><td>0</td><td>0</td><td>0</td><td>0</td><td>0</td><td>0</td><td>0</td><td>0</td><td>0</td><td>0</td><td>0</td><td>0</td><td>0</td><td>0</td><td>0</td><td>0</td><td>0</td><td>0</td><td>0</td></tr><tr><td>3</td><td>97</td><td>125</td><td>49</td><td>4</td><td>&quot;P Smart 2021&quot;</td><td>&quot;Воронеж&quot;</td><td>&quot;Воронежская об...</td><td>&quot;smartphone&quot;</td><td>5</td><td>5</td><td>2</td><td>2</td><td>49</td><td>34</td><td>275</td><td>&quot;Huawei Device ...</td><td>&quot;Android&quot;</td><td>1</td><td>1</td><td>43</td><td>13990.0</td><td>2</td><td>0</td><td>26</td><td>6</td><td>2</td><td>0</td><td>0</td><td>2</td><td>1</td><td>0</td><td>0</td><td>14</td><td>0</td><td>22</td><td>1</td><td>...</td><td>0</td><td>0</td><td>0</td><td>0</td><td>0</td><td>0</td><td>0</td><td>0</td><td>0</td><td>0</td><td>0</td><td>0</td><td>0</td><td>0</td><td>0</td><td>0</td><td>0</td><td>0</td><td>0</td><td>0</td><td>0</td><td>0</td><td>0</td><td>0</td><td>0</td><td>0</td><td>0</td><td>0</td><td>0</td><td>0</td><td>0</td><td>0</td><td>0</td><td>0</td><td>0</td><td>0</td><td>0</td></tr><tr><td>4</td><td>271</td><td>206</td><td>289</td><td>11</td><td>&quot;Nova 3&quot;</td><td>&quot;Анапа&quot;</td><td>&quot;Краснодарский ...</td><td>&quot;smartphone&quot;</td><td>5</td><td>4</td><td>4</td><td>2</td><td>65</td><td>107</td><td>777</td><td>&quot;Huawei&quot;</td><td>&quot;Android&quot;</td><td>5</td><td>9</td><td>108</td><td>12990.0</td><td>7</td><td>0</td><td>36</td><td>48</td><td>38</td><td>0</td><td>4</td><td>10</td><td>10</td><td>22</td><td>7</td><td>0</td><td>0</td><td>48</td><td>4</td><td>...</td><td>0</td><td>0</td><td>0</td><td>0</td><td>0</td><td>0</td><td>0</td><td>0</td><td>0</td><td>0</td><td>0</td><td>0</td><td>0</td><td>0</td><td>0</td><td>0</td><td>0</td><td>0</td><td>0</td><td>0</td><td>0</td><td>0</td><td>0</td><td>0</td><td>0</td><td>0</td><td>0</td><td>0</td><td>0</td><td>0</td><td>0</td><td>0</td><td>0</td><td>0</td><td>0</td><td>0</td><td>0</td></tr></tbody></table></div>"
      ],
      "text/plain": [
       "shape: (5, 2522)\n",
       "┌─────────┬────────────┬───────────────┬──────────────┬─────┬──────────────┬─────────────┬──────────────┬──────────────┐\n",
       "│ user_id ┆ request_cn ┆ request_cnt_e ┆ request_cnt_ ┆ ... ┆ wap1.3101010 ┆ ranobes.com ┆ d3.taxinonst ┆ avalon.antor │\n",
       "│ ---     ┆ t_day      ┆ vening        ┆ morning      ┆     ┆ .ru          ┆ ---         ┆ op.ru        ┆ gps.com      │\n",
       "│ i32     ┆ ---        ┆ ---           ┆ ---          ┆     ┆ ---          ┆ i64         ┆ ---          ┆ ---          │\n",
       "│         ┆ i64        ┆ i64           ┆ i64          ┆     ┆ i64          ┆             ┆ i64          ┆ i64          │\n",
       "╞═════════╪════════════╪═══════════════╪══════════════╪═════╪══════════════╪═════════════╪══════════════╪══════════════╡\n",
       "│ 0       ┆ 107        ┆ 62            ┆ 23           ┆ ... ┆ 0            ┆ 0           ┆ 0            ┆ 0            │\n",
       "│ 1       ┆ 363        ┆ 309           ┆ 338          ┆ ... ┆ 0            ┆ 0           ┆ 0            ┆ 0            │\n",
       "│ 2       ┆ 198        ┆ 130           ┆ 77           ┆ ... ┆ 0            ┆ 0           ┆ 0            ┆ 0            │\n",
       "│ 3       ┆ 97         ┆ 125           ┆ 49           ┆ ... ┆ 0            ┆ 0           ┆ 0            ┆ 0            │\n",
       "│ 4       ┆ 271        ┆ 206           ┆ 289          ┆ ... ┆ 0            ┆ 0           ┆ 0            ┆ 0            │\n",
       "└─────────┴────────────┴───────────────┴──────────────┴─────┴──────────────┴─────────────┴──────────────┴──────────────┘"
      ]
     },
     "execution_count": 43,
     "metadata": {},
     "output_type": "execute_result"
    }
   ],
   "source": [
    "add_features.head()"
   ]
  },
  {
   "cell_type": "code",
   "execution_count": 44,
   "id": "a374276e-c5ce-4812-bf5b-47ec0d8363e2",
   "metadata": {
    "tags": []
   },
   "outputs": [],
   "source": [
    "wd_list = data.select(pl.col('wd').unique()).to_pandas()['wd'].to_list()"
   ]
  },
  {
   "cell_type": "code",
   "execution_count": 45,
   "id": "ce379f79-2eb3-490a-9578-a76722f6c8c8",
   "metadata": {
    "tags": []
   },
   "outputs": [
    {
     "name": "stdout",
     "output_type": "stream",
     "text": [
      "CPU times: total: 2min 14s\n",
      "Wall time: 49.1 s\n"
     ]
    }
   ],
   "source": [
    "%%time\n",
    "#количество запросов по времени суток и дню недели действия пользователя\n",
    "add_features = add_features.join(data.pivot(values='request_cnt', \n",
    "                                            index='user_id', \n",
    "                                            columns='wd', \n",
    "                                            aggregate_function='sum'),\n",
    "                                 how='left', on='user_id')"
   ]
  },
  {
   "cell_type": "code",
   "execution_count": 46,
   "id": "67aa18a9-64a1-47a1-a4d6-93cdcf5b4b9a",
   "metadata": {},
   "outputs": [],
   "source": [
    "add_features = add_features.with_columns(pl.col(wd_list).fill_null(value=0))"
   ]
  },
  {
   "cell_type": "code",
   "execution_count": 47,
   "id": "9662aa64-dbc5-470a-8384-3e42fd293f43",
   "metadata": {
    "tags": []
   },
   "outputs": [],
   "source": [
    "add_features = add_features.rename({keys: keys + '_domain' for keys in dict.fromkeys(top_2500).keys()})"
   ]
  },
  {
   "cell_type": "code",
   "execution_count": 48,
   "id": "52736ae5-9c5e-4767-b917-b56f6a1e6bfd",
   "metadata": {
    "tags": []
   },
   "outputs": [],
   "source": [
    "top_2500 = [keys + '_domain' for keys in dict.fromkeys(top_2500).keys()]"
   ]
  },
  {
   "cell_type": "code",
   "execution_count": 49,
   "id": "30dc1606-879c-4eaf-92cd-783d0cb556c3",
   "metadata": {
    "tags": []
   },
   "outputs": [],
   "source": [
    "num_features_list = ['request_cnt_morning', 'request_cnt_day', 'request_cnt_evening',\n",
    "                     'request_cnt_night', 'price', 'url_host_count', 'city_name_count', \n",
    "                     'region_name_count','request_cnt_max_day', 'request_cnt_max_evening',\n",
    "                     'request_cnt_max_morning', 'request_cnt_max_night', 'total_cnt',\n",
    "                     'max_per_url', 'max_per_day']"
   ]
  },
  {
   "cell_type": "code",
   "execution_count": 50,
   "id": "5146fa48-4ace-49df-b4d6-f0caaeb8f1b6",
   "metadata": {},
   "outputs": [],
   "source": [
    "cat_features_list = ['cpe_model_name', 'city_name', 'cpe_type_cd', 'region_name', 'cpe_model_os_type', 'cpe_manufacturer_name']"
   ]
  },
  {
   "cell_type": "code",
   "execution_count": 51,
   "id": "c5285570-6993-4d77-a9fe-fd92fc2d24b1",
   "metadata": {
    "tags": []
   },
   "outputs": [],
   "source": [
    "add_features = add_features.to_pandas()"
   ]
  },
  {
   "cell_type": "code",
   "execution_count": 52,
   "id": "81d0c732-cc96-4a0c-a7a1-b64732825851",
   "metadata": {
    "tags": []
   },
   "outputs": [],
   "source": [
    "data_tf = data_tf.to_pandas()"
   ]
  },
  {
   "cell_type": "code",
   "execution_count": 53,
   "id": "782d6249-b684-40c7-9430-19c531d52cc7",
   "metadata": {
    "tags": []
   },
   "outputs": [
    {
     "data": {
      "text/html": [
       "<div>\n",
       "<style scoped>\n",
       "    .dataframe tbody tr th:only-of-type {\n",
       "        vertical-align: middle;\n",
       "    }\n",
       "\n",
       "    .dataframe tbody tr th {\n",
       "        vertical-align: top;\n",
       "    }\n",
       "\n",
       "    .dataframe thead th {\n",
       "        text-align: right;\n",
       "    }\n",
       "</style>\n",
       "<table border=\"1\" class=\"dataframe\">\n",
       "  <thead>\n",
       "    <tr style=\"text-align: right;\">\n",
       "      <th></th>\n",
       "      <th>user_id</th>\n",
       "      <th>url_host</th>\n",
       "    </tr>\n",
       "  </thead>\n",
       "  <tbody>\n",
       "    <tr>\n",
       "      <th>0</th>\n",
       "      <td>182144</td>\n",
       "      <td>[api.facemojikeyboard.com, i.ytimg.com, unbloc...</td>\n",
       "    </tr>\n",
       "    <tr>\n",
       "      <th>1</th>\n",
       "      <td>303152</td>\n",
       "      <td>[ad.adriver.ru, ad.mail.ru, avatars.mds.yandex...</td>\n",
       "    </tr>\n",
       "    <tr>\n",
       "      <th>2</th>\n",
       "      <td>256752</td>\n",
       "      <td>[ok.ru, online.sberbank.ru, cdn.viqeo.tv, vk.c...</td>\n",
       "    </tr>\n",
       "    <tr>\n",
       "      <th>3</th>\n",
       "      <td>326560</td>\n",
       "      <td>[ad.mail.ru, googleads.g.doubleclick.net, goog...</td>\n",
       "    </tr>\n",
       "    <tr>\n",
       "      <th>4</th>\n",
       "      <td>409200</td>\n",
       "      <td>[ad.adriver.ru, playep.pro, static.skwstat.ru,...</td>\n",
       "    </tr>\n",
       "  </tbody>\n",
       "</table>\n",
       "</div>"
      ],
      "text/plain": [
       "   user_id                                           url_host\n",
       "0   182144  [api.facemojikeyboard.com, i.ytimg.com, unbloc...\n",
       "1   303152  [ad.adriver.ru, ad.mail.ru, avatars.mds.yandex...\n",
       "2   256752  [ok.ru, online.sberbank.ru, cdn.viqeo.tv, vk.c...\n",
       "3   326560  [ad.mail.ru, googleads.g.doubleclick.net, goog...\n",
       "4   409200  [ad.adriver.ru, playep.pro, static.skwstat.ru,..."
      ]
     },
     "execution_count": 53,
     "metadata": {},
     "output_type": "execute_result"
    }
   ],
   "source": [
    "data_tf.head()"
   ]
  },
  {
   "cell_type": "code",
   "execution_count": 54,
   "id": "0ddd2088-e6ee-4ffd-b738-90c8ea2ef1a9",
   "metadata": {},
   "outputs": [
    {
     "data": {
      "text/plain": [
       "0"
      ]
     },
     "execution_count": 54,
     "metadata": {},
     "output_type": "execute_result"
    }
   ],
   "source": [
    "del data\n",
    "gc.collect()"
   ]
  },
  {
   "cell_type": "markdown",
   "id": "759eac11-30cc-4ebe-b994-b07ea359042b",
   "metadata": {},
   "source": [
    "# Prepare data"
   ]
  },
  {
   "cell_type": "code",
   "execution_count": 55,
   "id": "9d17b8c0-bf6c-4028-a960-509a1249dd4f",
   "metadata": {},
   "outputs": [
    {
     "data": {
      "text/html": [
       "<div>\n",
       "<style scoped>\n",
       "    .dataframe tbody tr th:only-of-type {\n",
       "        vertical-align: middle;\n",
       "    }\n",
       "\n",
       "    .dataframe tbody tr th {\n",
       "        vertical-align: top;\n",
       "    }\n",
       "\n",
       "    .dataframe thead tr th {\n",
       "        text-align: left;\n",
       "    }\n",
       "</style>\n",
       "<table border=\"1\" class=\"dataframe\">\n",
       "  <thead>\n",
       "    <tr>\n",
       "      <th></th>\n",
       "      <th>field</th>\n",
       "      <th>type</th>\n",
       "    </tr>\n",
       "  </thead>\n",
       "  <tbody>\n",
       "    <tr>\n",
       "      <th>0</th>\n",
       "      <td>age</td>\n",
       "      <td>double</td>\n",
       "    </tr>\n",
       "    <tr>\n",
       "      <th>1</th>\n",
       "      <td>is_male</td>\n",
       "      <td>string</td>\n",
       "    </tr>\n",
       "    <tr>\n",
       "      <th>2</th>\n",
       "      <td>user_id</td>\n",
       "      <td>int64</td>\n",
       "    </tr>\n",
       "    <tr>\n",
       "      <th>3</th>\n",
       "      <td>__index_level_0__</td>\n",
       "      <td>int64</td>\n",
       "    </tr>\n",
       "  </tbody>\n",
       "</table>\n",
       "</div>"
      ],
      "text/plain": [
       "               field    type\n",
       "0                age  double\n",
       "1            is_male  string\n",
       "2            user_id   int64\n",
       "3  __index_level_0__   int64"
      ]
     },
     "execution_count": 55,
     "metadata": {},
     "output_type": "execute_result"
    }
   ],
   "source": [
    "targets = pq.read_table(f'{LOCAL_DATA_PATH}\\\\{TARGET_FILE}')\n",
    "pd.DataFrame([(z.name, z.type) for z in targets.schema], columns = [['field', 'type']])"
   ]
  },
  {
   "cell_type": "code",
   "execution_count": 56,
   "id": "1d698f7c-3eb0-44ed-b961-5c6cea7f30e4",
   "metadata": {
    "tags": []
   },
   "outputs": [
    {
     "data": {
      "text/html": [
       "<div>\n",
       "<style scoped>\n",
       "    .dataframe tbody tr th:only-of-type {\n",
       "        vertical-align: middle;\n",
       "    }\n",
       "\n",
       "    .dataframe tbody tr th {\n",
       "        vertical-align: top;\n",
       "    }\n",
       "\n",
       "    .dataframe thead th {\n",
       "        text-align: right;\n",
       "    }\n",
       "</style>\n",
       "<table border=\"1\" class=\"dataframe\">\n",
       "  <thead>\n",
       "    <tr style=\"text-align: right;\">\n",
       "      <th></th>\n",
       "      <th>age</th>\n",
       "      <th>is_male</th>\n",
       "      <th>user_id</th>\n",
       "      <th>url_host</th>\n",
       "      <th>request_cnt_day</th>\n",
       "      <th>request_cnt_evening</th>\n",
       "      <th>request_cnt_morning</th>\n",
       "      <th>request_cnt_night</th>\n",
       "      <th>cpe_model_name</th>\n",
       "      <th>city_name</th>\n",
       "      <th>...</th>\n",
       "      <th>night_6</th>\n",
       "      <th>morning_6</th>\n",
       "      <th>evening_6</th>\n",
       "      <th>evening_5</th>\n",
       "      <th>morning_5</th>\n",
       "      <th>day_2</th>\n",
       "      <th>evening_7</th>\n",
       "      <th>day_5</th>\n",
       "      <th>night_1</th>\n",
       "      <th>night_7</th>\n",
       "    </tr>\n",
       "  </thead>\n",
       "  <tbody>\n",
       "    <tr>\n",
       "      <th>0</th>\n",
       "      <td>31.0</td>\n",
       "      <td>1</td>\n",
       "      <td>350459</td>\n",
       "      <td>[sun9-29.userapi.com, id.tinkoff.ru, id.tinkof...</td>\n",
       "      <td>122</td>\n",
       "      <td>30</td>\n",
       "      <td>88</td>\n",
       "      <td>0</td>\n",
       "      <td>Redmi Note 7</td>\n",
       "      <td>Ижевск</td>\n",
       "      <td>...</td>\n",
       "      <td>0</td>\n",
       "      <td>2</td>\n",
       "      <td>3</td>\n",
       "      <td>8</td>\n",
       "      <td>7</td>\n",
       "      <td>17</td>\n",
       "      <td>0</td>\n",
       "      <td>22</td>\n",
       "      <td>0</td>\n",
       "      <td>0</td>\n",
       "    </tr>\n",
       "    <tr>\n",
       "      <th>1</th>\n",
       "      <td>35.0</td>\n",
       "      <td>1</td>\n",
       "      <td>188276</td>\n",
       "      <td>[onlayn-radio.ru, online.sberbank.ru, googlead...</td>\n",
       "      <td>50</td>\n",
       "      <td>57</td>\n",
       "      <td>38</td>\n",
       "      <td>12</td>\n",
       "      <td>Galaxy A8 2018 Dual</td>\n",
       "      <td>Тосно</td>\n",
       "      <td>...</td>\n",
       "      <td>2</td>\n",
       "      <td>0</td>\n",
       "      <td>4</td>\n",
       "      <td>15</td>\n",
       "      <td>13</td>\n",
       "      <td>1</td>\n",
       "      <td>10</td>\n",
       "      <td>6</td>\n",
       "      <td>1</td>\n",
       "      <td>7</td>\n",
       "    </tr>\n",
       "    <tr>\n",
       "      <th>2</th>\n",
       "      <td>41.0</td>\n",
       "      <td>0</td>\n",
       "      <td>99002</td>\n",
       "      <td>[castlots.org, googleads.g.doubleclick.net, i....</td>\n",
       "      <td>429</td>\n",
       "      <td>261</td>\n",
       "      <td>148</td>\n",
       "      <td>18</td>\n",
       "      <td>Honor 8X</td>\n",
       "      <td>Заречный</td>\n",
       "      <td>...</td>\n",
       "      <td>2</td>\n",
       "      <td>22</td>\n",
       "      <td>26</td>\n",
       "      <td>51</td>\n",
       "      <td>59</td>\n",
       "      <td>102</td>\n",
       "      <td>36</td>\n",
       "      <td>38</td>\n",
       "      <td>0</td>\n",
       "      <td>4</td>\n",
       "    </tr>\n",
       "    <tr>\n",
       "      <th>3</th>\n",
       "      <td>33.0</td>\n",
       "      <td>0</td>\n",
       "      <td>155506</td>\n",
       "      <td>[tpc.googlesyndication.com, ad.mail.ru, m.avit...</td>\n",
       "      <td>9</td>\n",
       "      <td>0</td>\n",
       "      <td>29</td>\n",
       "      <td>0</td>\n",
       "      <td>iPhone 7 Plus</td>\n",
       "      <td>Краснодар</td>\n",
       "      <td>...</td>\n",
       "      <td>0</td>\n",
       "      <td>0</td>\n",
       "      <td>0</td>\n",
       "      <td>0</td>\n",
       "      <td>0</td>\n",
       "      <td>0</td>\n",
       "      <td>0</td>\n",
       "      <td>0</td>\n",
       "      <td>0</td>\n",
       "      <td>0</td>\n",
       "    </tr>\n",
       "    <tr>\n",
       "      <th>4</th>\n",
       "      <td>54.0</td>\n",
       "      <td>0</td>\n",
       "      <td>213873</td>\n",
       "      <td>[yandex.ru, street-viewer.ru, yastatic.net, s0...</td>\n",
       "      <td>0</td>\n",
       "      <td>0</td>\n",
       "      <td>4</td>\n",
       "      <td>0</td>\n",
       "      <td>Honor 6A</td>\n",
       "      <td>Краснодар</td>\n",
       "      <td>...</td>\n",
       "      <td>0</td>\n",
       "      <td>0</td>\n",
       "      <td>0</td>\n",
       "      <td>0</td>\n",
       "      <td>0</td>\n",
       "      <td>0</td>\n",
       "      <td>0</td>\n",
       "      <td>0</td>\n",
       "      <td>0</td>\n",
       "      <td>0</td>\n",
       "    </tr>\n",
       "  </tbody>\n",
       "</table>\n",
       "<p>5 rows × 2553 columns</p>\n",
       "</div>"
      ],
      "text/plain": [
       "    age  is_male  user_id                                           url_host  \\\n",
       "0  31.0        1   350459  [sun9-29.userapi.com, id.tinkoff.ru, id.tinkof...   \n",
       "1  35.0        1   188276  [onlayn-radio.ru, online.sberbank.ru, googlead...   \n",
       "2  41.0        0    99002  [castlots.org, googleads.g.doubleclick.net, i....   \n",
       "3  33.0        0   155506  [tpc.googlesyndication.com, ad.mail.ru, m.avit...   \n",
       "4  54.0        0   213873  [yandex.ru, street-viewer.ru, yastatic.net, s0...   \n",
       "\n",
       "   request_cnt_day  request_cnt_evening  request_cnt_morning  \\\n",
       "0              122                   30                   88   \n",
       "1               50                   57                   38   \n",
       "2              429                  261                  148   \n",
       "3                9                    0                   29   \n",
       "4                0                    0                    4   \n",
       "\n",
       "   request_cnt_night       cpe_model_name  city_name  ... night_6 morning_6  \\\n",
       "0                  0         Redmi Note 7     Ижевск  ...       0         2   \n",
       "1                 12  Galaxy A8 2018 Dual      Тосно  ...       2         0   \n",
       "2                 18             Honor 8X   Заречный  ...       2        22   \n",
       "3                  0        iPhone 7 Plus  Краснодар  ...       0         0   \n",
       "4                  0             Honor 6A  Краснодар  ...       0         0   \n",
       "\n",
       "   evening_6  evening_5  morning_5  day_2  evening_7  day_5  night_1 night_7  \n",
       "0          3          8          7     17          0     22        0       0  \n",
       "1          4         15         13      1         10      6        1       7  \n",
       "2         26         51         59    102         36     38        0       4  \n",
       "3          0          0          0      0          0      0        0       0  \n",
       "4          0          0          0      0          0      0        0       0  \n",
       "\n",
       "[5 rows x 2553 columns]"
      ]
     },
     "execution_count": 56,
     "metadata": {},
     "output_type": "execute_result"
    }
   ],
   "source": [
    "usr_targets = targets.to_pandas()\n",
    "usr_targets.dropna(inplace=True)\n",
    "usr_targets = usr_targets[usr_targets['is_male'] != 'NA']\n",
    "usr_targets['is_male'] = usr_targets['is_male'].astype(int)\n",
    "df = usr_targets.merge(data_tf, how = 'inner', on = ['user_id'])\n",
    "df = df.merge(add_features, how = 'inner', on = ['user_id'])\n",
    "df.head()"
   ]
  },
  {
   "cell_type": "code",
   "execution_count": 57,
   "id": "c0cf0126-d6ec-45e9-a1f5-db513020db05",
   "metadata": {
    "tags": []
   },
   "outputs": [
    {
     "data": {
      "text/plain": [
       "1    135331\n",
       "0    128994\n",
       "Name: is_male, dtype: int64"
      ]
     },
     "execution_count": 57,
     "metadata": {},
     "output_type": "execute_result"
    }
   ],
   "source": [
    "df['is_male'].value_counts()"
   ]
  },
  {
   "cell_type": "code",
   "execution_count": 58,
   "id": "ae65e538-f77e-4095-9bd1-9b52946b9d79",
   "metadata": {
    "tags": []
   },
   "outputs": [
    {
     "name": "stdout",
     "output_type": "stream",
     "text": [
      "(264325, 2553)\n",
      "(264325, 2553)\n"
     ]
    }
   ],
   "source": [
    "print(df.shape)\n",
    "df.dropna(inplace=True)\n",
    "print(df.shape)"
   ]
  },
  {
   "cell_type": "code",
   "execution_count": 59,
   "id": "36fb82b6-bbcd-423b-b1e3-a85597b55b4c",
   "metadata": {
    "tags": []
   },
   "outputs": [],
   "source": [
    "feat = df.drop(columns=['user_id', 'age', 'is_male'])\n",
    "tar = df['is_male']"
   ]
  },
  {
   "cell_type": "code",
   "execution_count": 60,
   "id": "13411fe4-5619-4284-bd5d-e584049dc5a8",
   "metadata": {
    "tags": []
   },
   "outputs": [
    {
     "data": {
      "text/plain": [
       "0    [sun9-29.userapi.com, id.tinkoff.ru, id.tinkof...\n",
       "1    [onlayn-radio.ru, online.sberbank.ru, googlead...\n",
       "2    [castlots.org, googleads.g.doubleclick.net, i....\n",
       "3    [tpc.googlesyndication.com, ad.mail.ru, m.avit...\n",
       "4    [yandex.ru, street-viewer.ru, yastatic.net, s0...\n",
       "Name: url_host, dtype: object"
      ]
     },
     "execution_count": 60,
     "metadata": {},
     "output_type": "execute_result"
    }
   ],
   "source": [
    "feat['url_host'].head()"
   ]
  },
  {
   "cell_type": "code",
   "execution_count": 61,
   "id": "b890b7b3-9a7b-4d5c-b085-af81adafaf5f",
   "metadata": {
    "tags": []
   },
   "outputs": [
    {
     "name": "stdout",
     "output_type": "stream",
     "text": [
      "CPU times: total: 3.02 s\n",
      "Wall time: 45.1 s\n"
     ]
    }
   ],
   "source": [
    "%%time\n",
    "feat['url_host'] = feat['url_host'].apply(url_transformer)"
   ]
  },
  {
   "cell_type": "code",
   "execution_count": 62,
   "id": "01b37333-1aff-4030-ba4f-4c22529091e0",
   "metadata": {},
   "outputs": [
    {
     "data": {
      "text/plain": [
       "0    esia.gosuslugi.ru sun9-5.userapi.com online.sb...\n",
       "1    online.sberbank.ru m.auto.ru onlayn-radio.ru c...\n",
       "2    cloud.mail.ru publication.pravo.gov.ru sun9-5....\n",
       "3    instagram.com nmfo-spo.edu.rosminzdrav.ru goog...\n",
       "4    yandex.ru street-viewer.ru s0.2mdn.net yastati...\n",
       "Name: url_host, dtype: object"
      ]
     },
     "execution_count": 62,
     "metadata": {},
     "output_type": "execute_result"
    }
   ],
   "source": [
    "feat['url_host'].head()"
   ]
  },
  {
   "cell_type": "code",
   "execution_count": 63,
   "id": "6cf9ac63-38fb-4a6e-abc1-a4cd1e65bb58",
   "metadata": {
    "tags": []
   },
   "outputs": [
    {
     "name": "stdout",
     "output_type": "stream",
     "text": [
      "<class 'pandas.core.frame.DataFrame'>\n",
      "Int64Index: 264325 entries, 0 to 264324\n",
      "Columns: 2550 entries, url_host to night_7\n",
      "dtypes: category(6), float32(1), int64(2535), int8(4), object(1), uint32(3)\n",
      "memory usage: 5.0+ GB\n"
     ]
    }
   ],
   "source": [
    "feat.info()"
   ]
  },
  {
   "cell_type": "code",
   "execution_count": 64,
   "id": "fbafa7b7-1740-40a8-8414-51d789b08d4b",
   "metadata": {
    "tags": []
   },
   "outputs": [],
   "source": [
    "feat['url_host'] = feat['url_host'].astype('U')"
   ]
  },
  {
   "cell_type": "code",
   "execution_count": 65,
   "id": "b25a7956-5842-47b1-8292-30a17d0bd6cd",
   "metadata": {
    "tags": []
   },
   "outputs": [
    {
     "data": {
      "text/html": [
       "<div>\n",
       "<style scoped>\n",
       "    .dataframe tbody tr th:only-of-type {\n",
       "        vertical-align: middle;\n",
       "    }\n",
       "\n",
       "    .dataframe tbody tr th {\n",
       "        vertical-align: top;\n",
       "    }\n",
       "\n",
       "    .dataframe thead th {\n",
       "        text-align: right;\n",
       "    }\n",
       "</style>\n",
       "<table border=\"1\" class=\"dataframe\">\n",
       "  <thead>\n",
       "    <tr style=\"text-align: right;\">\n",
       "      <th></th>\n",
       "      <th>url_host</th>\n",
       "      <th>request_cnt_day</th>\n",
       "      <th>request_cnt_evening</th>\n",
       "      <th>request_cnt_morning</th>\n",
       "      <th>request_cnt_night</th>\n",
       "      <th>cpe_model_name</th>\n",
       "      <th>city_name</th>\n",
       "      <th>region_name</th>\n",
       "      <th>cpe_type_cd</th>\n",
       "      <th>request_cnt_max_day</th>\n",
       "      <th>...</th>\n",
       "      <th>night_6</th>\n",
       "      <th>morning_6</th>\n",
       "      <th>evening_6</th>\n",
       "      <th>evening_5</th>\n",
       "      <th>morning_5</th>\n",
       "      <th>day_2</th>\n",
       "      <th>evening_7</th>\n",
       "      <th>day_5</th>\n",
       "      <th>night_1</th>\n",
       "      <th>night_7</th>\n",
       "    </tr>\n",
       "  </thead>\n",
       "  <tbody>\n",
       "    <tr>\n",
       "      <th>0</th>\n",
       "      <td>esia.gosuslugi.ru sun9-5.userapi.com online.sb...</td>\n",
       "      <td>122</td>\n",
       "      <td>30</td>\n",
       "      <td>88</td>\n",
       "      <td>0</td>\n",
       "      <td>Redmi Note 7</td>\n",
       "      <td>Ижевск</td>\n",
       "      <td>Удмуртская Республика</td>\n",
       "      <td>smartphone</td>\n",
       "      <td>6</td>\n",
       "      <td>...</td>\n",
       "      <td>0</td>\n",
       "      <td>2</td>\n",
       "      <td>3</td>\n",
       "      <td>8</td>\n",
       "      <td>7</td>\n",
       "      <td>17</td>\n",
       "      <td>0</td>\n",
       "      <td>22</td>\n",
       "      <td>0</td>\n",
       "      <td>0</td>\n",
       "    </tr>\n",
       "    <tr>\n",
       "      <th>1</th>\n",
       "      <td>online.sberbank.ru m.auto.ru onlayn-radio.ru c...</td>\n",
       "      <td>50</td>\n",
       "      <td>57</td>\n",
       "      <td>38</td>\n",
       "      <td>12</td>\n",
       "      <td>Galaxy A8 2018 Dual</td>\n",
       "      <td>Тосно</td>\n",
       "      <td>Ленинградская область</td>\n",
       "      <td>smartphone</td>\n",
       "      <td>4</td>\n",
       "      <td>...</td>\n",
       "      <td>2</td>\n",
       "      <td>0</td>\n",
       "      <td>4</td>\n",
       "      <td>15</td>\n",
       "      <td>13</td>\n",
       "      <td>1</td>\n",
       "      <td>10</td>\n",
       "      <td>6</td>\n",
       "      <td>1</td>\n",
       "      <td>7</td>\n",
       "    </tr>\n",
       "    <tr>\n",
       "      <th>2</th>\n",
       "      <td>cloud.mail.ru publication.pravo.gov.ru sun9-5....</td>\n",
       "      <td>429</td>\n",
       "      <td>261</td>\n",
       "      <td>148</td>\n",
       "      <td>18</td>\n",
       "      <td>Honor 8X</td>\n",
       "      <td>Заречный</td>\n",
       "      <td>Пензенская область</td>\n",
       "      <td>smartphone</td>\n",
       "      <td>6</td>\n",
       "      <td>...</td>\n",
       "      <td>2</td>\n",
       "      <td>22</td>\n",
       "      <td>26</td>\n",
       "      <td>51</td>\n",
       "      <td>59</td>\n",
       "      <td>102</td>\n",
       "      <td>36</td>\n",
       "      <td>38</td>\n",
       "      <td>0</td>\n",
       "      <td>4</td>\n",
       "    </tr>\n",
       "    <tr>\n",
       "      <th>3</th>\n",
       "      <td>instagram.com nmfo-spo.edu.rosminzdrav.ru goog...</td>\n",
       "      <td>9</td>\n",
       "      <td>0</td>\n",
       "      <td>29</td>\n",
       "      <td>0</td>\n",
       "      <td>iPhone 7 Plus</td>\n",
       "      <td>Краснодар</td>\n",
       "      <td>Краснодарский край</td>\n",
       "      <td>smartphone</td>\n",
       "      <td>3</td>\n",
       "      <td>...</td>\n",
       "      <td>0</td>\n",
       "      <td>0</td>\n",
       "      <td>0</td>\n",
       "      <td>0</td>\n",
       "      <td>0</td>\n",
       "      <td>0</td>\n",
       "      <td>0</td>\n",
       "      <td>0</td>\n",
       "      <td>0</td>\n",
       "      <td>0</td>\n",
       "    </tr>\n",
       "    <tr>\n",
       "      <th>4</th>\n",
       "      <td>yandex.ru street-viewer.ru s0.2mdn.net yastati...</td>\n",
       "      <td>0</td>\n",
       "      <td>0</td>\n",
       "      <td>4</td>\n",
       "      <td>0</td>\n",
       "      <td>Honor 6A</td>\n",
       "      <td>Краснодар</td>\n",
       "      <td>Краснодарский край</td>\n",
       "      <td>smartphone</td>\n",
       "      <td>0</td>\n",
       "      <td>...</td>\n",
       "      <td>0</td>\n",
       "      <td>0</td>\n",
       "      <td>0</td>\n",
       "      <td>0</td>\n",
       "      <td>0</td>\n",
       "      <td>0</td>\n",
       "      <td>0</td>\n",
       "      <td>0</td>\n",
       "      <td>0</td>\n",
       "      <td>0</td>\n",
       "    </tr>\n",
       "  </tbody>\n",
       "</table>\n",
       "<p>5 rows × 2550 columns</p>\n",
       "</div>"
      ],
      "text/plain": [
       "                                            url_host  request_cnt_day  \\\n",
       "0  esia.gosuslugi.ru sun9-5.userapi.com online.sb...              122   \n",
       "1  online.sberbank.ru m.auto.ru onlayn-radio.ru c...               50   \n",
       "2  cloud.mail.ru publication.pravo.gov.ru sun9-5....              429   \n",
       "3  instagram.com nmfo-spo.edu.rosminzdrav.ru goog...                9   \n",
       "4  yandex.ru street-viewer.ru s0.2mdn.net yastati...                0   \n",
       "\n",
       "   request_cnt_evening  request_cnt_morning  request_cnt_night  \\\n",
       "0                   30                   88                  0   \n",
       "1                   57                   38                 12   \n",
       "2                  261                  148                 18   \n",
       "3                    0                   29                  0   \n",
       "4                    0                    4                  0   \n",
       "\n",
       "        cpe_model_name  city_name            region_name cpe_type_cd  \\\n",
       "0         Redmi Note 7     Ижевск  Удмуртская Республика  smartphone   \n",
       "1  Galaxy A8 2018 Dual      Тосно  Ленинградская область  smartphone   \n",
       "2             Honor 8X   Заречный     Пензенская область  smartphone   \n",
       "3        iPhone 7 Plus  Краснодар     Краснодарский край  smartphone   \n",
       "4             Honor 6A  Краснодар     Краснодарский край  smartphone   \n",
       "\n",
       "   request_cnt_max_day  ...  night_6  morning_6  evening_6  evening_5  \\\n",
       "0                    6  ...        0          2          3          8   \n",
       "1                    4  ...        2          0          4         15   \n",
       "2                    6  ...        2         22         26         51   \n",
       "3                    3  ...        0          0          0          0   \n",
       "4                    0  ...        0          0          0          0   \n",
       "\n",
       "   morning_5  day_2 evening_7 day_5  night_1  night_7  \n",
       "0          7     17         0    22        0        0  \n",
       "1         13      1        10     6        1        7  \n",
       "2         59    102        36    38        0        4  \n",
       "3          0      0         0     0        0        0  \n",
       "4          0      0         0     0        0        0  \n",
       "\n",
       "[5 rows x 2550 columns]"
      ]
     },
     "execution_count": 65,
     "metadata": {},
     "output_type": "execute_result"
    }
   ],
   "source": [
    "feat.head()"
   ]
  },
  {
   "cell_type": "markdown",
   "id": "5454a4b7-a121-4958-b395-2c3dd2ffa081",
   "metadata": {},
   "source": [
    "# Gender"
   ]
  },
  {
   "cell_type": "code",
   "execution_count": 66,
   "id": "a6979709-9fe1-4d95-b15c-8aa3d09dfc30",
   "metadata": {},
   "outputs": [],
   "source": [
    "ohe_encoder = OneHotEncoder(handle_unknown='ignore', drop='first')\n",
    "oe_encoder = OrdinalEncoder(handle_unknown='use_encoded_value',unknown_value=-1)"
   ]
  },
  {
   "cell_type": "code",
   "execution_count": 67,
   "id": "ed7ed1e2-f092-4dfa-9931-1e98cd0781fb",
   "metadata": {
    "tags": []
   },
   "outputs": [],
   "source": [
    "count_word = ColumnTransformer([('tf_idf', CountVectorizer(token_pattern=r'\\b\\S+\\b'),'url_host')])\n",
    "tf_idf_word = ColumnTransformer([('tf_idf', TfidfVectorizer(token_pattern=r'\\b\\S+\\b'),'url_host')])\n",
    "num_transformer_lr = ColumnTransformer(transformers=[('n', MinMaxScaler(), num_features_list+wd_list)])\n",
    "cat_transformer_ohe = ColumnTransformer(transformers=[('c', ohe_encoder, cat_features_list)])\n",
    "cat_transformer_oe = ColumnTransformer(transformers=[('c', oe_encoder, cat_features_list)])\n",
    "top_2500_transformer = ColumnTransformer(transformers=[('n', FunctionTransformer(), top_2500)])\n",
    "top_2500_normalizer = ColumnTransformer(transformers=[('ntop', Normalizer(norm='max'), top_2500)])\n",
    "num_transformer_lgbm = ColumnTransformer(transformers=[('nft', FunctionTransformer(), num_features_list+wd_list)])"
   ]
  },
  {
   "cell_type": "code",
   "execution_count": 68,
   "id": "666a0a45-3cc1-4172-b51a-2f2c170bca25",
   "metadata": {
    "tags": []
   },
   "outputs": [],
   "source": [
    "vectorizer_lr = FeatureUnion([('cat', cat_transformer_ohe), \n",
    "                              ('word', tf_idf_word), \n",
    "                              ('num', num_transformer_lr)])#,\n",
    "                              #('t_2500', top_2500_normalizer)])\n",
    "\n",
    "vectorizer_nb = FeatureUnion([('cat', cat_transformer_ohe), \n",
    "                              ('word', count_word)]) \n",
    "\n",
    "vectorizer_lgbm = FeatureUnion([('cat', cat_transformer_oe), \n",
    "                                ('top_2000', top_2500_transformer), \n",
    "                                ('num', num_transformer_lgbm)])"
   ]
  },
  {
   "cell_type": "code",
   "execution_count": 69,
   "id": "24e7c346-c2d6-4b20-9c86-1d8412a8bd1a",
   "metadata": {
    "tags": []
   },
   "outputs": [],
   "source": [
    "pipe_gender_lr = Pipeline([('transform', vectorizer_lr),\n",
    "                           ('classifier',  LogisticRegression(max_iter=1000, solver='saga'))])"
   ]
  },
  {
   "cell_type": "code",
   "execution_count": 70,
   "id": "8f7d6cee-66d4-4ac5-be51-8b0e5c987d17",
   "metadata": {},
   "outputs": [],
   "source": [
    "pipe_gender_nb = Pipeline([('transform', vectorizer_nb),\n",
    "                           ('classifier', MultinomialNB())])"
   ]
  },
  {
   "cell_type": "code",
   "execution_count": 71,
   "id": "a875e125-31c1-4453-988e-71424ca64a6f",
   "metadata": {
    "tags": []
   },
   "outputs": [],
   "source": [
    "pipe_gender_lgbm = Pipeline([('transform', vectorizer_lgbm),\n",
    "                             ('classifier', LGBMClassifier(n_estimators=2000))])"
   ]
  },
  {
   "cell_type": "code",
   "execution_count": 72,
   "id": "9fb5a7f9-694f-4a00-b384-f61e81834300",
   "metadata": {
    "tags": []
   },
   "outputs": [],
   "source": [
    "x_train, x_test, y_train, y_test = train_test_split(\\\n",
    "    feat, tar, test_size = 0.33, random_state = SPLIT_SEED)"
   ]
  },
  {
   "cell_type": "code",
   "execution_count": 73,
   "id": "64856061-a828-4ed6-8481-8e148f74902c",
   "metadata": {
    "tags": []
   },
   "outputs": [
    {
     "name": "stdout",
     "output_type": "stream",
     "text": [
      "CPU times: total: 40.7 s\n",
      "Wall time: 46.6 s\n"
     ]
    }
   ],
   "source": [
    "%%time\n",
    "pipe_gender_lr.fit(x_train, y_train);"
   ]
  },
  {
   "cell_type": "code",
   "execution_count": 74,
   "id": "249bb4f2-257b-449e-a0fb-48207f8e93b6",
   "metadata": {
    "tags": []
   },
   "outputs": [
    {
     "name": "stdout",
     "output_type": "stream",
     "text": [
      "0.7333501463423981\n"
     ]
    }
   ],
   "source": [
    "print(gini(y_test, pipe_gender_lr.predict_proba(x_test)[:,1]))"
   ]
  },
  {
   "cell_type": "code",
   "execution_count": 75,
   "id": "aa912d58-6943-420e-a9b9-e677bfa6df5f",
   "metadata": {
    "tags": []
   },
   "outputs": [
    {
     "name": "stdout",
     "output_type": "stream",
     "text": [
      "CPU times: total: 10.2 s\n",
      "Wall time: 10.5 s\n"
     ]
    }
   ],
   "source": [
    "%%time\n",
    "pipe_gender_nb.fit(x_train, y_train);"
   ]
  },
  {
   "cell_type": "code",
   "execution_count": 76,
   "id": "033d46f9-2740-40ce-a1de-e23021212aea",
   "metadata": {
    "tags": []
   },
   "outputs": [
    {
     "name": "stdout",
     "output_type": "stream",
     "text": [
      "0.7110459392343447\n"
     ]
    }
   ],
   "source": [
    "print(gini(y_test, pipe_gender_nb.predict_proba(x_test)[:,1]))"
   ]
  },
  {
   "cell_type": "code",
   "execution_count": 77,
   "id": "06309cb3-1a87-4a86-a140-af4f7c7fb0a3",
   "metadata": {
    "tags": []
   },
   "outputs": [
    {
     "name": "stdout",
     "output_type": "stream",
     "text": [
      "CPU times: total: 12min 37s\n",
      "Wall time: 1min 13s\n"
     ]
    }
   ],
   "source": [
    "%%time\n",
    "pipe_gender_lgbm.fit(x_train, y_train);"
   ]
  },
  {
   "cell_type": "code",
   "execution_count": 78,
   "id": "65d26043-da67-409c-855f-78df932784ef",
   "metadata": {
    "tags": []
   },
   "outputs": [
    {
     "name": "stdout",
     "output_type": "stream",
     "text": [
      "0.7421897582227717\n"
     ]
    }
   ],
   "source": [
    "print(gini(y_test, pipe_gender_lgbm.predict_proba(x_test)[:,1]))"
   ]
  },
  {
   "cell_type": "code",
   "execution_count": 79,
   "id": "deb1c854-f134-462b-9df2-872ffa7fe69e",
   "metadata": {
    "tags": []
   },
   "outputs": [],
   "source": [
    "stacking_gender = StackingClassifier(estimators=[('1', pipe_gender_lr),\n",
    "                                                 ('2', pipe_gender_nb),\n",
    "                                                 ('3', pipe_gender_lgbm)],\n",
    "                                     cv=3,\n",
    "                                     n_jobs=2)"
   ]
  },
  {
   "cell_type": "code",
   "execution_count": 80,
   "id": "e5eef468-3e24-486d-b16c-be5b086b6c0e",
   "metadata": {
    "tags": []
   },
   "outputs": [
    {
     "name": "stdout",
     "output_type": "stream",
     "text": [
      "CPU times: total: 6.11 s\n",
      "Wall time: 6min 12s\n"
     ]
    }
   ],
   "source": [
    "%%time\n",
    "stacking_gender.fit(x_train, y_train);"
   ]
  },
  {
   "cell_type": "code",
   "execution_count": 81,
   "id": "044b9053-f835-4e99-8772-89933d114874",
   "metadata": {
    "tags": []
   },
   "outputs": [
    {
     "name": "stdout",
     "output_type": "stream",
     "text": [
      "0.760961963317667\n"
     ]
    }
   ],
   "source": [
    "print(gini(y_test, stacking_gender.predict_proba(x_test)[:,1]))"
   ]
  },
  {
   "cell_type": "markdown",
   "id": "86b78868-0403-4c6e-b760-38ea8a04efc0",
   "metadata": {},
   "source": [
    "# Age"
   ]
  },
  {
   "cell_type": "code",
   "execution_count": 82,
   "id": "05983139-d38a-4dfb-aec1-0552874561a1",
   "metadata": {
    "tags": []
   },
   "outputs": [],
   "source": [
    "pipe_age_lr = Pipeline([('transform', vectorizer_lr),\n",
    "                        ('classifier',  LogisticRegression())])"
   ]
  },
  {
   "cell_type": "code",
   "execution_count": 83,
   "id": "a5ef5431-978a-4ec8-a925-3b12bc8e14ae",
   "metadata": {
    "tags": []
   },
   "outputs": [],
   "source": [
    "pipe_age_nb = Pipeline([('transform', vectorizer_nb),\n",
    "                        ('classifier', MultinomialNB())])"
   ]
  },
  {
   "cell_type": "code",
   "execution_count": 84,
   "id": "acbc1e6f-a0d0-4134-9b63-f1727eb9c470",
   "metadata": {
    "tags": []
   },
   "outputs": [],
   "source": [
    "pipe_age_lgbm = Pipeline([('transform', vectorizer_lgbm),\n",
    "                          ('classifier', LGBMClassifier(n_estimators=1000))])"
   ]
  },
  {
   "cell_type": "code",
   "execution_count": 85,
   "id": "42a5b154-4042-4521-8e90-ba6ffbd54017",
   "metadata": {
    "tags": []
   },
   "outputs": [],
   "source": [
    "def age_bucket(x):\n",
    "    return bisect.bisect_left([18,25,35,45,55,65], x)"
   ]
  },
  {
   "cell_type": "code",
   "execution_count": 86,
   "id": "fb54e964-4571-4d2e-9b8b-de64d4b45b99",
   "metadata": {
    "tags": []
   },
   "outputs": [],
   "source": [
    "tar_age = df['age'].map(age_bucket)"
   ]
  },
  {
   "cell_type": "code",
   "execution_count": 87,
   "id": "7a2cc8ef-c266-41a2-bee5-145306f2cf21",
   "metadata": {
    "tags": []
   },
   "outputs": [
    {
     "name": "stdout",
     "output_type": "stream",
     "text": [
      "CPU times: total: 4.27 s\n",
      "Wall time: 24.9 s\n"
     ]
    }
   ],
   "source": [
    "%%time\n",
    "x_train, x_test, y_train, y_test = train_test_split(\\\n",
    "     feat, tar_age, test_size = 0.33, random_state = SPLIT_SEED)"
   ]
  },
  {
   "cell_type": "code",
   "execution_count": 88,
   "id": "4854bac4-2c14-4ceb-89f5-6444a460df24",
   "metadata": {
    "tags": []
   },
   "outputs": [
    {
     "name": "stdout",
     "output_type": "stream",
     "text": [
      "CPU times: total: 56.8 s\n",
      "Wall time: 1min 6s\n"
     ]
    },
    {
     "data": {
      "text/plain": [
       "0.4247376422008774"
      ]
     },
     "execution_count": 88,
     "metadata": {},
     "output_type": "execute_result"
    }
   ],
   "source": [
    "%%time\n",
    "pipe_age_lr.fit(x_train, y_train)\n",
    "m.f1_score(y_test, pipe_age_lr.predict(x_test), average='weighted')"
   ]
  },
  {
   "cell_type": "code",
   "execution_count": 89,
   "id": "a9a069db-57d6-4250-83f2-22461ea8caec",
   "metadata": {
    "tags": []
   },
   "outputs": [
    {
     "name": "stdout",
     "output_type": "stream",
     "text": [
      "CPU times: total: 15.5 s\n",
      "Wall time: 15.8 s\n"
     ]
    },
    {
     "data": {
      "text/plain": [
       "0.3900611637130776"
      ]
     },
     "execution_count": 89,
     "metadata": {},
     "output_type": "execute_result"
    }
   ],
   "source": [
    "%%time\n",
    "pipe_age_nb.fit(x_train, y_train)\n",
    "m.f1_score(y_test, pipe_age_nb.predict(x_test), average='weighted')"
   ]
  },
  {
   "cell_type": "code",
   "execution_count": 90,
   "id": "2433d35f-4877-448e-bf5e-528e685f3021",
   "metadata": {
    "tags": []
   },
   "outputs": [
    {
     "name": "stdout",
     "output_type": "stream",
     "text": [
      "CPU times: total: 47min 8s\n",
      "Wall time: 3min 35s\n"
     ]
    },
    {
     "data": {
      "text/plain": [
       "0.4457941449526746"
      ]
     },
     "execution_count": 90,
     "metadata": {},
     "output_type": "execute_result"
    }
   ],
   "source": [
    "%%time\n",
    "pipe_age_lgbm.fit(x_train, y_train)\n",
    "m.f1_score(y_test, pipe_age_lgbm.predict(x_test), average='weighted')"
   ]
  },
  {
   "cell_type": "code",
   "execution_count": 91,
   "id": "c6ad34cb-3dc5-4da5-a243-6e435374ef5f",
   "metadata": {
    "tags": []
   },
   "outputs": [],
   "source": [
    "stacking_age = StackingClassifier(estimators=[('1', pipe_age_lr),\n",
    "                                              ('2', pipe_age_nb),\n",
    "                                              ('3', pipe_age_lgbm)],\n",
    "                                  final_estimator=CatBoostClassifier(iterations=2000, silent=True),\n",
    "                                  cv=3, n_jobs=2)"
   ]
  },
  {
   "cell_type": "code",
   "execution_count": 92,
   "id": "ba0832f7-7f76-4155-889f-a8da09882cd3",
   "metadata": {
    "tags": []
   },
   "outputs": [
    {
     "name": "stdout",
     "output_type": "stream",
     "text": [
      "              precision    recall  f1-score   support\n",
      "\n",
      "         <18       0.00      0.00      0.00       256\n",
      "       18-25       0.54      0.46      0.50     10601\n",
      "       25-34       0.53      0.61      0.57     28204\n",
      "       35-44       0.43      0.52      0.47     25039\n",
      "       45-54       0.40      0.27      0.32     13549\n",
      "       55-65       0.42      0.32      0.36      7736\n",
      "         65+       0.36      0.04      0.08      1843\n",
      "\n",
      "    accuracy                           0.47     87228\n",
      "   macro avg       0.38      0.32      0.33     87228\n",
      "weighted avg       0.47      0.47      0.46     87228\n",
      "\n",
      "CPU times: total: 4min 28s\n",
      "Wall time: 15min 42s\n"
     ]
    }
   ],
   "source": [
    "%%time\n",
    "stacking_age.fit(x_train, y_train)\n",
    "print(m.classification_report(y_test, stacking_age.predict(x_test), \\\n",
    "                            target_names = ['<18', '18-25','25-34', '35-44', '45-54', '55-65', '65+']))"
   ]
  },
  {
   "cell_type": "code",
   "execution_count": 93,
   "id": "235b644c-8ae8-40dc-ad19-d2035a84f9eb",
   "metadata": {
    "tags": []
   },
   "outputs": [
    {
     "data": {
      "text/plain": [
       "0.4621788827374467"
      ]
     },
     "execution_count": 93,
     "metadata": {},
     "output_type": "execute_result"
    }
   ],
   "source": [
    "m.f1_score(y_test, stacking_age.predict(x_test), average='weighted')"
   ]
  },
  {
   "cell_type": "markdown",
   "id": "3a822d40-cfd8-4085-aba0-14a51012c0a8",
   "metadata": {},
   "source": [
    "# Submit gender"
   ]
  },
  {
   "cell_type": "code",
   "execution_count": 98,
   "id": "19e0f092-cf6a-427b-97de-1ab3f5db08e3",
   "metadata": {
    "tags": []
   },
   "outputs": [],
   "source": [
    "id_to_submit = pd.read_feather('D:\\\\ods_ai\\\\submission.feather')"
   ]
  },
  {
   "cell_type": "code",
   "execution_count": 99,
   "id": "a2546ce9-c821-48d7-b249-d38763987eb8",
   "metadata": {
    "tags": []
   },
   "outputs": [
    {
     "name": "stdout",
     "output_type": "stream",
     "text": [
      "CPU times: total: 7.42 s\n",
      "Wall time: 10min 25s\n"
     ]
    }
   ],
   "source": [
    "%%time\n",
    "stacking_gender.fit(feat, tar);"
   ]
  },
  {
   "cell_type": "code",
   "execution_count": 100,
   "id": "89bfa410-042c-4c94-b324-ec73d6eb0e4d",
   "metadata": {
    "tags": []
   },
   "outputs": [],
   "source": [
    "features = id_to_submit.merge(data_tf, how = 'inner', on = ['user_id'])"
   ]
  },
  {
   "cell_type": "code",
   "execution_count": 101,
   "id": "53ca41a5-6d77-498d-baf5-89b9746c3308",
   "metadata": {
    "tags": []
   },
   "outputs": [],
   "source": [
    "features = features.merge(add_features, how = 'inner', on = ['user_id'])"
   ]
  },
  {
   "cell_type": "code",
   "execution_count": 102,
   "id": "c3d78d41-4c0f-48fa-9192-30568509cfea",
   "metadata": {
    "tags": []
   },
   "outputs": [
    {
     "name": "stdout",
     "output_type": "stream",
     "text": [
      "CPU times: total: 78.1 ms\n",
      "Wall time: 11.9 s\n"
     ]
    }
   ],
   "source": [
    "%%time\n",
    "features['url_host'] = features['url_host'].apply(url_transformer)"
   ]
  },
  {
   "cell_type": "code",
   "execution_count": 103,
   "id": "f7fd6127-7fa6-410a-ab3d-e5cd27c96376",
   "metadata": {
    "tags": []
   },
   "outputs": [],
   "source": [
    "features['url_host'] = features['url_host'].astype('U')"
   ]
  },
  {
   "cell_type": "code",
   "execution_count": 104,
   "id": "cc8c2a04-4cbc-424e-a14b-eb9ef9a5bd08",
   "metadata": {
    "tags": []
   },
   "outputs": [],
   "source": [
    "features.drop(columns=['user_id'], inplace=True)"
   ]
  },
  {
   "cell_type": "code",
   "execution_count": 105,
   "id": "46cca0c8-3936-4244-bbf9-0ba66d4dbab1",
   "metadata": {
    "tags": []
   },
   "outputs": [],
   "source": [
    "id_to_submit['is_male'] = stacking_gender.predict_proba(features)[:,1]"
   ]
  },
  {
   "cell_type": "code",
   "execution_count": 106,
   "id": "5de522f2-d256-445a-87fc-4f7ffba2c8e6",
   "metadata": {
    "tags": []
   },
   "outputs": [
    {
     "data": {
      "text/html": [
       "<div>\n",
       "<style scoped>\n",
       "    .dataframe tbody tr th:only-of-type {\n",
       "        vertical-align: middle;\n",
       "    }\n",
       "\n",
       "    .dataframe tbody tr th {\n",
       "        vertical-align: top;\n",
       "    }\n",
       "\n",
       "    .dataframe thead th {\n",
       "        text-align: right;\n",
       "    }\n",
       "</style>\n",
       "<table border=\"1\" class=\"dataframe\">\n",
       "  <thead>\n",
       "    <tr style=\"text-align: right;\">\n",
       "      <th></th>\n",
       "      <th>user_id</th>\n",
       "      <th>is_male</th>\n",
       "    </tr>\n",
       "  </thead>\n",
       "  <tbody>\n",
       "    <tr>\n",
       "      <th>0</th>\n",
       "      <td>221301</td>\n",
       "      <td>0.940997</td>\n",
       "    </tr>\n",
       "    <tr>\n",
       "      <th>1</th>\n",
       "      <td>31271</td>\n",
       "      <td>0.586812</td>\n",
       "    </tr>\n",
       "    <tr>\n",
       "      <th>2</th>\n",
       "      <td>211594</td>\n",
       "      <td>0.622290</td>\n",
       "    </tr>\n",
       "    <tr>\n",
       "      <th>3</th>\n",
       "      <td>253119</td>\n",
       "      <td>0.647237</td>\n",
       "    </tr>\n",
       "    <tr>\n",
       "      <th>4</th>\n",
       "      <td>192578</td>\n",
       "      <td>0.852762</td>\n",
       "    </tr>\n",
       "  </tbody>\n",
       "</table>\n",
       "</div>"
      ],
      "text/plain": [
       "   user_id   is_male\n",
       "0   221301  0.940997\n",
       "1    31271  0.586812\n",
       "2   211594  0.622290\n",
       "3   253119  0.647237\n",
       "4   192578  0.852762"
      ]
     },
     "execution_count": 106,
     "metadata": {},
     "output_type": "execute_result"
    }
   ],
   "source": [
    "id_to_submit.head()"
   ]
  },
  {
   "cell_type": "markdown",
   "id": "99890411-6691-4772-a6ed-2383ba9c1f5a",
   "metadata": {},
   "source": [
    "# Submit age"
   ]
  },
  {
   "cell_type": "code",
   "execution_count": 107,
   "id": "22d15e10-7c0b-4cfa-bc84-5d170bd9d772",
   "metadata": {
    "tags": []
   },
   "outputs": [
    {
     "name": "stdout",
     "output_type": "stream",
     "text": [
      "CPU times: total: 5min 58s\n",
      "Wall time: 23min 8s\n"
     ]
    }
   ],
   "source": [
    "%%time\n",
    "stacking_age.fit(feat, tar_age);"
   ]
  },
  {
   "cell_type": "code",
   "execution_count": 108,
   "id": "268114df-c846-43c8-ad99-5d1015250ced",
   "metadata": {
    "tags": []
   },
   "outputs": [],
   "source": [
    "id_to_submit['age'] = stacking_age.predict(features)"
   ]
  },
  {
   "cell_type": "code",
   "execution_count": 109,
   "id": "a103f51d-d7ee-489e-bda7-9c3d8c20db38",
   "metadata": {
    "tags": []
   },
   "outputs": [
    {
     "data": {
      "text/html": [
       "<div>\n",
       "<style scoped>\n",
       "    .dataframe tbody tr th:only-of-type {\n",
       "        vertical-align: middle;\n",
       "    }\n",
       "\n",
       "    .dataframe tbody tr th {\n",
       "        vertical-align: top;\n",
       "    }\n",
       "\n",
       "    .dataframe thead th {\n",
       "        text-align: right;\n",
       "    }\n",
       "</style>\n",
       "<table border=\"1\" class=\"dataframe\">\n",
       "  <thead>\n",
       "    <tr style=\"text-align: right;\">\n",
       "      <th></th>\n",
       "      <th>user_id</th>\n",
       "      <th>is_male</th>\n",
       "      <th>age</th>\n",
       "    </tr>\n",
       "  </thead>\n",
       "  <tbody>\n",
       "    <tr>\n",
       "      <th>0</th>\n",
       "      <td>221301</td>\n",
       "      <td>0.940997</td>\n",
       "      <td>1</td>\n",
       "    </tr>\n",
       "    <tr>\n",
       "      <th>1</th>\n",
       "      <td>31271</td>\n",
       "      <td>0.586812</td>\n",
       "      <td>3</td>\n",
       "    </tr>\n",
       "    <tr>\n",
       "      <th>2</th>\n",
       "      <td>211594</td>\n",
       "      <td>0.622290</td>\n",
       "      <td>2</td>\n",
       "    </tr>\n",
       "    <tr>\n",
       "      <th>3</th>\n",
       "      <td>253119</td>\n",
       "      <td>0.647237</td>\n",
       "      <td>3</td>\n",
       "    </tr>\n",
       "    <tr>\n",
       "      <th>4</th>\n",
       "      <td>192578</td>\n",
       "      <td>0.852762</td>\n",
       "      <td>2</td>\n",
       "    </tr>\n",
       "  </tbody>\n",
       "</table>\n",
       "</div>"
      ],
      "text/plain": [
       "   user_id   is_male  age\n",
       "0   221301  0.940997    1\n",
       "1    31271  0.586812    3\n",
       "2   211594  0.622290    2\n",
       "3   253119  0.647237    3\n",
       "4   192578  0.852762    2"
      ]
     },
     "execution_count": 109,
     "metadata": {},
     "output_type": "execute_result"
    }
   ],
   "source": [
    "id_to_submit.head()"
   ]
  },
  {
   "cell_type": "code",
   "execution_count": 110,
   "id": "15a2c5ad-c00c-4b67-bdda-9bbfa0282fe0",
   "metadata": {},
   "outputs": [],
   "source": [
    "id_to_submit.to_csv(f'{LOCAL_DATA_PATH}\\\\submission.csv', index = False)"
   ]
  },
  {
   "cell_type": "code",
   "execution_count": null,
   "id": "ca2765b0-fb8f-47c7-9a90-3e3a3d69312e",
   "metadata": {},
   "outputs": [],
   "source": []
  }
 ],
 "metadata": {
  "kernelspec": {
   "display_name": "Python 3 (ipykernel)",
   "language": "python",
   "name": "python3"
  },
  "language_info": {
   "codemirror_mode": {
    "name": "ipython",
    "version": 3
   },
   "file_extension": ".py",
   "mimetype": "text/x-python",
   "name": "python",
   "nbconvert_exporter": "python",
   "pygments_lexer": "ipython3",
   "version": "3.10.10"
  }
 },
 "nbformat": 4,
 "nbformat_minor": 5
}
